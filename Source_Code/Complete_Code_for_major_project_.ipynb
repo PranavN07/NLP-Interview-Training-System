{
  "cells": [
    {
      "cell_type": "code",
      "execution_count": null,
      "metadata": {
        "colab": {
          "base_uri": "https://localhost:8080/"
        },
        "id": "fG8dOxhtu3p4",
        "outputId": "aabd8925-32b6-4691-fa1c-f0c6cbe14e42"
      },
      "outputs": [
        {
          "name": "stdout",
          "output_type": "stream",
          "text": [
            "Collecting PyMuPDF\n",
            "  Downloading PyMuPDF-1.23.7-cp310-none-manylinux2014_x86_64.whl (4.4 MB)\n",
            "\u001b[2K     \u001b[90m━━━━━━━━━━━━━━━━━━━━━━━━━━━━━━━━━━━━━━━━\u001b[0m \u001b[32m4.4/4.4 MB\u001b[0m \u001b[31m11.8 MB/s\u001b[0m eta \u001b[36m0:00:00\u001b[0m\n",
            "\u001b[?25hCollecting PyMuPDFb==1.23.7 (from PyMuPDF)\n",
            "  Downloading PyMuPDFb-1.23.7-py3-none-manylinux2014_x86_64.manylinux_2_17_x86_64.whl (30.6 MB)\n",
            "\u001b[2K     \u001b[90m━━━━━━━━━━━━━━━━━━━━━━━━━━━━━━━━━━━━━━━━\u001b[0m \u001b[32m30.6/30.6 MB\u001b[0m \u001b[31m30.0 MB/s\u001b[0m eta \u001b[36m0:00:00\u001b[0m\n",
            "\u001b[?25hInstalling collected packages: PyMuPDFb, PyMuPDF\n",
            "Successfully installed PyMuPDF-1.23.7 PyMuPDFb-1.23.7\n"
          ]
        }
      ],
      "source": [
        "!pip install PyMuPDF"
      ]
    },
    {
      "cell_type": "code",
      "execution_count": null,
      "metadata": {
        "colab": {
          "base_uri": "https://localhost:8080/"
        },
        "id": "hKYVTNw29Ofo",
        "outputId": "492bd54f-1775-47c1-babd-63c1f522c882"
      },
      "outputs": [
        {
          "name": "stdout",
          "output_type": "stream",
          "text": [
            "Requirement already satisfied: spacy in /usr/local/lib/python3.10/dist-packages (3.6.1)\n",
            "Requirement already satisfied: spacy-legacy<3.1.0,>=3.0.11 in /usr/local/lib/python3.10/dist-packages (from spacy) (3.0.12)\n",
            "Requirement already satisfied: spacy-loggers<2.0.0,>=1.0.0 in /usr/local/lib/python3.10/dist-packages (from spacy) (1.0.5)\n",
            "Requirement already satisfied: murmurhash<1.1.0,>=0.28.0 in /usr/local/lib/python3.10/dist-packages (from spacy) (1.0.10)\n",
            "Requirement already satisfied: cymem<2.1.0,>=2.0.2 in /usr/local/lib/python3.10/dist-packages (from spacy) (2.0.8)\n",
            "Requirement already satisfied: preshed<3.1.0,>=3.0.2 in /usr/local/lib/python3.10/dist-packages (from spacy) (3.0.9)\n",
            "Requirement already satisfied: thinc<8.2.0,>=8.1.8 in /usr/local/lib/python3.10/dist-packages (from spacy) (8.1.12)\n",
            "Requirement already satisfied: wasabi<1.2.0,>=0.9.1 in /usr/local/lib/python3.10/dist-packages (from spacy) (1.1.2)\n",
            "Requirement already satisfied: srsly<3.0.0,>=2.4.3 in /usr/local/lib/python3.10/dist-packages (from spacy) (2.4.8)\n",
            "Requirement already satisfied: catalogue<2.1.0,>=2.0.6 in /usr/local/lib/python3.10/dist-packages (from spacy) (2.0.10)\n",
            "Requirement already satisfied: typer<0.10.0,>=0.3.0 in /usr/local/lib/python3.10/dist-packages (from spacy) (0.9.0)\n",
            "Requirement already satisfied: pathy>=0.10.0 in /usr/local/lib/python3.10/dist-packages (from spacy) (0.10.3)\n",
            "Requirement already satisfied: smart-open<7.0.0,>=5.2.1 in /usr/local/lib/python3.10/dist-packages (from spacy) (6.4.0)\n",
            "Requirement already satisfied: tqdm<5.0.0,>=4.38.0 in /usr/local/lib/python3.10/dist-packages (from spacy) (4.66.1)\n",
            "Requirement already satisfied: numpy>=1.15.0 in /usr/local/lib/python3.10/dist-packages (from spacy) (1.23.5)\n",
            "Requirement already satisfied: requests<3.0.0,>=2.13.0 in /usr/local/lib/python3.10/dist-packages (from spacy) (2.31.0)\n",
            "Requirement already satisfied: pydantic!=1.8,!=1.8.1,<3.0.0,>=1.7.4 in /usr/local/lib/python3.10/dist-packages (from spacy) (1.10.13)\n",
            "Requirement already satisfied: jinja2 in /usr/local/lib/python3.10/dist-packages (from spacy) (3.1.2)\n",
            "Requirement already satisfied: setuptools in /usr/local/lib/python3.10/dist-packages (from spacy) (67.7.2)\n",
            "Requirement already satisfied: packaging>=20.0 in /usr/local/lib/python3.10/dist-packages (from spacy) (23.2)\n",
            "Requirement already satisfied: langcodes<4.0.0,>=3.2.0 in /usr/local/lib/python3.10/dist-packages (from spacy) (3.3.0)\n",
            "Requirement already satisfied: typing-extensions>=4.2.0 in /usr/local/lib/python3.10/dist-packages (from pydantic!=1.8,!=1.8.1,<3.0.0,>=1.7.4->spacy) (4.5.0)\n",
            "Requirement already satisfied: charset-normalizer<4,>=2 in /usr/local/lib/python3.10/dist-packages (from requests<3.0.0,>=2.13.0->spacy) (3.3.2)\n",
            "Requirement already satisfied: idna<4,>=2.5 in /usr/local/lib/python3.10/dist-packages (from requests<3.0.0,>=2.13.0->spacy) (3.6)\n",
            "Requirement already satisfied: urllib3<3,>=1.21.1 in /usr/local/lib/python3.10/dist-packages (from requests<3.0.0,>=2.13.0->spacy) (2.0.7)\n",
            "Requirement already satisfied: certifi>=2017.4.17 in /usr/local/lib/python3.10/dist-packages (from requests<3.0.0,>=2.13.0->spacy) (2023.11.17)\n",
            "Requirement already satisfied: blis<0.8.0,>=0.7.8 in /usr/local/lib/python3.10/dist-packages (from thinc<8.2.0,>=8.1.8->spacy) (0.7.11)\n",
            "Requirement already satisfied: confection<1.0.0,>=0.0.1 in /usr/local/lib/python3.10/dist-packages (from thinc<8.2.0,>=8.1.8->spacy) (0.1.4)\n",
            "Requirement already satisfied: click<9.0.0,>=7.1.1 in /usr/local/lib/python3.10/dist-packages (from typer<0.10.0,>=0.3.0->spacy) (8.1.7)\n",
            "Requirement already satisfied: MarkupSafe>=2.0 in /usr/local/lib/python3.10/dist-packages (from jinja2->spacy) (2.1.3)\n",
            "2023-12-19 08:03:26.841964: E external/local_xla/xla/stream_executor/cuda/cuda_dnn.cc:9261] Unable to register cuDNN factory: Attempting to register factory for plugin cuDNN when one has already been registered\n",
            "2023-12-19 08:03:26.842036: E external/local_xla/xla/stream_executor/cuda/cuda_fft.cc:607] Unable to register cuFFT factory: Attempting to register factory for plugin cuFFT when one has already been registered\n",
            "2023-12-19 08:03:26.843532: E external/local_xla/xla/stream_executor/cuda/cuda_blas.cc:1515] Unable to register cuBLAS factory: Attempting to register factory for plugin cuBLAS when one has already been registered\n",
            "2023-12-19 08:03:26.852228: I tensorflow/core/platform/cpu_feature_guard.cc:182] This TensorFlow binary is optimized to use available CPU instructions in performance-critical operations.\n",
            "To enable the following instructions: AVX2 FMA, in other operations, rebuild TensorFlow with the appropriate compiler flags.\n",
            "2023-12-19 08:03:28.158708: W tensorflow/compiler/tf2tensorrt/utils/py_utils.cc:38] TF-TRT Warning: Could not find TensorRT\n",
            "Collecting en-core-web-sm==3.6.0\n",
            "  Downloading https://github.com/explosion/spacy-models/releases/download/en_core_web_sm-3.6.0/en_core_web_sm-3.6.0-py3-none-any.whl (12.8 MB)\n",
            "\u001b[2K     \u001b[90m━━━━━━━━━━━━━━━━━━━━━━━━━━━━━━━━━━━━━━━━\u001b[0m \u001b[32m12.8/12.8 MB\u001b[0m \u001b[31m27.2 MB/s\u001b[0m eta \u001b[36m0:00:00\u001b[0m\n",
            "\u001b[?25hRequirement already satisfied: spacy<3.7.0,>=3.6.0 in /usr/local/lib/python3.10/dist-packages (from en-core-web-sm==3.6.0) (3.6.1)\n",
            "Requirement already satisfied: spacy-legacy<3.1.0,>=3.0.11 in /usr/local/lib/python3.10/dist-packages (from spacy<3.7.0,>=3.6.0->en-core-web-sm==3.6.0) (3.0.12)\n",
            "Requirement already satisfied: spacy-loggers<2.0.0,>=1.0.0 in /usr/local/lib/python3.10/dist-packages (from spacy<3.7.0,>=3.6.0->en-core-web-sm==3.6.0) (1.0.5)\n",
            "Requirement already satisfied: murmurhash<1.1.0,>=0.28.0 in /usr/local/lib/python3.10/dist-packages (from spacy<3.7.0,>=3.6.0->en-core-web-sm==3.6.0) (1.0.10)\n",
            "Requirement already satisfied: cymem<2.1.0,>=2.0.2 in /usr/local/lib/python3.10/dist-packages (from spacy<3.7.0,>=3.6.0->en-core-web-sm==3.6.0) (2.0.8)\n",
            "Requirement already satisfied: preshed<3.1.0,>=3.0.2 in /usr/local/lib/python3.10/dist-packages (from spacy<3.7.0,>=3.6.0->en-core-web-sm==3.6.0) (3.0.9)\n",
            "Requirement already satisfied: thinc<8.2.0,>=8.1.8 in /usr/local/lib/python3.10/dist-packages (from spacy<3.7.0,>=3.6.0->en-core-web-sm==3.6.0) (8.1.12)\n",
            "Requirement already satisfied: wasabi<1.2.0,>=0.9.1 in /usr/local/lib/python3.10/dist-packages (from spacy<3.7.0,>=3.6.0->en-core-web-sm==3.6.0) (1.1.2)\n",
            "Requirement already satisfied: srsly<3.0.0,>=2.4.3 in /usr/local/lib/python3.10/dist-packages (from spacy<3.7.0,>=3.6.0->en-core-web-sm==3.6.0) (2.4.8)\n",
            "Requirement already satisfied: catalogue<2.1.0,>=2.0.6 in /usr/local/lib/python3.10/dist-packages (from spacy<3.7.0,>=3.6.0->en-core-web-sm==3.6.0) (2.0.10)\n",
            "Requirement already satisfied: typer<0.10.0,>=0.3.0 in /usr/local/lib/python3.10/dist-packages (from spacy<3.7.0,>=3.6.0->en-core-web-sm==3.6.0) (0.9.0)\n",
            "Requirement already satisfied: pathy>=0.10.0 in /usr/local/lib/python3.10/dist-packages (from spacy<3.7.0,>=3.6.0->en-core-web-sm==3.6.0) (0.10.3)\n",
            "Requirement already satisfied: smart-open<7.0.0,>=5.2.1 in /usr/local/lib/python3.10/dist-packages (from spacy<3.7.0,>=3.6.0->en-core-web-sm==3.6.0) (6.4.0)\n",
            "Requirement already satisfied: tqdm<5.0.0,>=4.38.0 in /usr/local/lib/python3.10/dist-packages (from spacy<3.7.0,>=3.6.0->en-core-web-sm==3.6.0) (4.66.1)\n",
            "Requirement already satisfied: numpy>=1.15.0 in /usr/local/lib/python3.10/dist-packages (from spacy<3.7.0,>=3.6.0->en-core-web-sm==3.6.0) (1.23.5)\n",
            "Requirement already satisfied: requests<3.0.0,>=2.13.0 in /usr/local/lib/python3.10/dist-packages (from spacy<3.7.0,>=3.6.0->en-core-web-sm==3.6.0) (2.31.0)\n",
            "Requirement already satisfied: pydantic!=1.8,!=1.8.1,<3.0.0,>=1.7.4 in /usr/local/lib/python3.10/dist-packages (from spacy<3.7.0,>=3.6.0->en-core-web-sm==3.6.0) (1.10.13)\n",
            "Requirement already satisfied: jinja2 in /usr/local/lib/python3.10/dist-packages (from spacy<3.7.0,>=3.6.0->en-core-web-sm==3.6.0) (3.1.2)\n",
            "Requirement already satisfied: setuptools in /usr/local/lib/python3.10/dist-packages (from spacy<3.7.0,>=3.6.0->en-core-web-sm==3.6.0) (67.7.2)\n",
            "Requirement already satisfied: packaging>=20.0 in /usr/local/lib/python3.10/dist-packages (from spacy<3.7.0,>=3.6.0->en-core-web-sm==3.6.0) (23.2)\n",
            "Requirement already satisfied: langcodes<4.0.0,>=3.2.0 in /usr/local/lib/python3.10/dist-packages (from spacy<3.7.0,>=3.6.0->en-core-web-sm==3.6.0) (3.3.0)\n",
            "Requirement already satisfied: typing-extensions>=4.2.0 in /usr/local/lib/python3.10/dist-packages (from pydantic!=1.8,!=1.8.1,<3.0.0,>=1.7.4->spacy<3.7.0,>=3.6.0->en-core-web-sm==3.6.0) (4.5.0)\n",
            "Requirement already satisfied: charset-normalizer<4,>=2 in /usr/local/lib/python3.10/dist-packages (from requests<3.0.0,>=2.13.0->spacy<3.7.0,>=3.6.0->en-core-web-sm==3.6.0) (3.3.2)\n",
            "Requirement already satisfied: idna<4,>=2.5 in /usr/local/lib/python3.10/dist-packages (from requests<3.0.0,>=2.13.0->spacy<3.7.0,>=3.6.0->en-core-web-sm==3.6.0) (3.6)\n",
            "Requirement already satisfied: urllib3<3,>=1.21.1 in /usr/local/lib/python3.10/dist-packages (from requests<3.0.0,>=2.13.0->spacy<3.7.0,>=3.6.0->en-core-web-sm==3.6.0) (2.0.7)\n",
            "Requirement already satisfied: certifi>=2017.4.17 in /usr/local/lib/python3.10/dist-packages (from requests<3.0.0,>=2.13.0->spacy<3.7.0,>=3.6.0->en-core-web-sm==3.6.0) (2023.11.17)\n",
            "Requirement already satisfied: blis<0.8.0,>=0.7.8 in /usr/local/lib/python3.10/dist-packages (from thinc<8.2.0,>=8.1.8->spacy<3.7.0,>=3.6.0->en-core-web-sm==3.6.0) (0.7.11)\n",
            "Requirement already satisfied: confection<1.0.0,>=0.0.1 in /usr/local/lib/python3.10/dist-packages (from thinc<8.2.0,>=8.1.8->spacy<3.7.0,>=3.6.0->en-core-web-sm==3.6.0) (0.1.4)\n",
            "Requirement already satisfied: click<9.0.0,>=7.1.1 in /usr/local/lib/python3.10/dist-packages (from typer<0.10.0,>=0.3.0->spacy<3.7.0,>=3.6.0->en-core-web-sm==3.6.0) (8.1.7)\n",
            "Requirement already satisfied: MarkupSafe>=2.0 in /usr/local/lib/python3.10/dist-packages (from jinja2->spacy<3.7.0,>=3.6.0->en-core-web-sm==3.6.0) (2.1.3)\n",
            "\u001b[38;5;2m✔ Download and installation successful\u001b[0m\n",
            "You can now load the package via spacy.load('en_core_web_sm')\n",
            "2023-12-19 08:03:44.948945: E external/local_xla/xla/stream_executor/cuda/cuda_dnn.cc:9261] Unable to register cuDNN factory: Attempting to register factory for plugin cuDNN when one has already been registered\n",
            "2023-12-19 08:03:44.949009: E external/local_xla/xla/stream_executor/cuda/cuda_fft.cc:607] Unable to register cuFFT factory: Attempting to register factory for plugin cuFFT when one has already been registered\n",
            "2023-12-19 08:03:44.950435: E external/local_xla/xla/stream_executor/cuda/cuda_blas.cc:1515] Unable to register cuBLAS factory: Attempting to register factory for plugin cuBLAS when one has already been registered\n",
            "2023-12-19 08:03:44.958391: I tensorflow/core/platform/cpu_feature_guard.cc:182] This TensorFlow binary is optimized to use available CPU instructions in performance-critical operations.\n",
            "To enable the following instructions: AVX2 FMA, in other operations, rebuild TensorFlow with the appropriate compiler flags.\n",
            "2023-12-19 08:03:46.229726: W tensorflow/compiler/tf2tensorrt/utils/py_utils.cc:38] TF-TRT Warning: Could not find TensorRT\n",
            "Collecting en-core-web-md==3.6.0\n",
            "  Downloading https://github.com/explosion/spacy-models/releases/download/en_core_web_md-3.6.0/en_core_web_md-3.6.0-py3-none-any.whl (42.8 MB)\n",
            "\u001b[2K     \u001b[90m━━━━━━━━━━━━━━━━━━━━━━━━━━━━━━━━━━━━━━━━\u001b[0m \u001b[32m42.8/42.8 MB\u001b[0m \u001b[31m15.6 MB/s\u001b[0m eta \u001b[36m0:00:00\u001b[0m\n",
            "\u001b[?25hRequirement already satisfied: spacy<3.7.0,>=3.6.0 in /usr/local/lib/python3.10/dist-packages (from en-core-web-md==3.6.0) (3.6.1)\n",
            "Requirement already satisfied: spacy-legacy<3.1.0,>=3.0.11 in /usr/local/lib/python3.10/dist-packages (from spacy<3.7.0,>=3.6.0->en-core-web-md==3.6.0) (3.0.12)\n",
            "Requirement already satisfied: spacy-loggers<2.0.0,>=1.0.0 in /usr/local/lib/python3.10/dist-packages (from spacy<3.7.0,>=3.6.0->en-core-web-md==3.6.0) (1.0.5)\n",
            "Requirement already satisfied: murmurhash<1.1.0,>=0.28.0 in /usr/local/lib/python3.10/dist-packages (from spacy<3.7.0,>=3.6.0->en-core-web-md==3.6.0) (1.0.10)\n",
            "Requirement already satisfied: cymem<2.1.0,>=2.0.2 in /usr/local/lib/python3.10/dist-packages (from spacy<3.7.0,>=3.6.0->en-core-web-md==3.6.0) (2.0.8)\n",
            "Requirement already satisfied: preshed<3.1.0,>=3.0.2 in /usr/local/lib/python3.10/dist-packages (from spacy<3.7.0,>=3.6.0->en-core-web-md==3.6.0) (3.0.9)\n",
            "Requirement already satisfied: thinc<8.2.0,>=8.1.8 in /usr/local/lib/python3.10/dist-packages (from spacy<3.7.0,>=3.6.0->en-core-web-md==3.6.0) (8.1.12)\n",
            "Requirement already satisfied: wasabi<1.2.0,>=0.9.1 in /usr/local/lib/python3.10/dist-packages (from spacy<3.7.0,>=3.6.0->en-core-web-md==3.6.0) (1.1.2)\n",
            "Requirement already satisfied: srsly<3.0.0,>=2.4.3 in /usr/local/lib/python3.10/dist-packages (from spacy<3.7.0,>=3.6.0->en-core-web-md==3.6.0) (2.4.8)\n",
            "Requirement already satisfied: catalogue<2.1.0,>=2.0.6 in /usr/local/lib/python3.10/dist-packages (from spacy<3.7.0,>=3.6.0->en-core-web-md==3.6.0) (2.0.10)\n",
            "Requirement already satisfied: typer<0.10.0,>=0.3.0 in /usr/local/lib/python3.10/dist-packages (from spacy<3.7.0,>=3.6.0->en-core-web-md==3.6.0) (0.9.0)\n",
            "Requirement already satisfied: pathy>=0.10.0 in /usr/local/lib/python3.10/dist-packages (from spacy<3.7.0,>=3.6.0->en-core-web-md==3.6.0) (0.10.3)\n",
            "Requirement already satisfied: smart-open<7.0.0,>=5.2.1 in /usr/local/lib/python3.10/dist-packages (from spacy<3.7.0,>=3.6.0->en-core-web-md==3.6.0) (6.4.0)\n",
            "Requirement already satisfied: tqdm<5.0.0,>=4.38.0 in /usr/local/lib/python3.10/dist-packages (from spacy<3.7.0,>=3.6.0->en-core-web-md==3.6.0) (4.66.1)\n",
            "Requirement already satisfied: numpy>=1.15.0 in /usr/local/lib/python3.10/dist-packages (from spacy<3.7.0,>=3.6.0->en-core-web-md==3.6.0) (1.23.5)\n",
            "Requirement already satisfied: requests<3.0.0,>=2.13.0 in /usr/local/lib/python3.10/dist-packages (from spacy<3.7.0,>=3.6.0->en-core-web-md==3.6.0) (2.31.0)\n",
            "Requirement already satisfied: pydantic!=1.8,!=1.8.1,<3.0.0,>=1.7.4 in /usr/local/lib/python3.10/dist-packages (from spacy<3.7.0,>=3.6.0->en-core-web-md==3.6.0) (1.10.13)\n",
            "Requirement already satisfied: jinja2 in /usr/local/lib/python3.10/dist-packages (from spacy<3.7.0,>=3.6.0->en-core-web-md==3.6.0) (3.1.2)\n",
            "Requirement already satisfied: setuptools in /usr/local/lib/python3.10/dist-packages (from spacy<3.7.0,>=3.6.0->en-core-web-md==3.6.0) (67.7.2)\n",
            "Requirement already satisfied: packaging>=20.0 in /usr/local/lib/python3.10/dist-packages (from spacy<3.7.0,>=3.6.0->en-core-web-md==3.6.0) (23.2)\n",
            "Requirement already satisfied: langcodes<4.0.0,>=3.2.0 in /usr/local/lib/python3.10/dist-packages (from spacy<3.7.0,>=3.6.0->en-core-web-md==3.6.0) (3.3.0)\n",
            "Requirement already satisfied: typing-extensions>=4.2.0 in /usr/local/lib/python3.10/dist-packages (from pydantic!=1.8,!=1.8.1,<3.0.0,>=1.7.4->spacy<3.7.0,>=3.6.0->en-core-web-md==3.6.0) (4.5.0)\n",
            "Requirement already satisfied: charset-normalizer<4,>=2 in /usr/local/lib/python3.10/dist-packages (from requests<3.0.0,>=2.13.0->spacy<3.7.0,>=3.6.0->en-core-web-md==3.6.0) (3.3.2)\n",
            "Requirement already satisfied: idna<4,>=2.5 in /usr/local/lib/python3.10/dist-packages (from requests<3.0.0,>=2.13.0->spacy<3.7.0,>=3.6.0->en-core-web-md==3.6.0) (3.6)\n",
            "Requirement already satisfied: urllib3<3,>=1.21.1 in /usr/local/lib/python3.10/dist-packages (from requests<3.0.0,>=2.13.0->spacy<3.7.0,>=3.6.0->en-core-web-md==3.6.0) (2.0.7)\n",
            "Requirement already satisfied: certifi>=2017.4.17 in /usr/local/lib/python3.10/dist-packages (from requests<3.0.0,>=2.13.0->spacy<3.7.0,>=3.6.0->en-core-web-md==3.6.0) (2023.11.17)\n",
            "Requirement already satisfied: blis<0.8.0,>=0.7.8 in /usr/local/lib/python3.10/dist-packages (from thinc<8.2.0,>=8.1.8->spacy<3.7.0,>=3.6.0->en-core-web-md==3.6.0) (0.7.11)\n",
            "Requirement already satisfied: confection<1.0.0,>=0.0.1 in /usr/local/lib/python3.10/dist-packages (from thinc<8.2.0,>=8.1.8->spacy<3.7.0,>=3.6.0->en-core-web-md==3.6.0) (0.1.4)\n",
            "Requirement already satisfied: click<9.0.0,>=7.1.1 in /usr/local/lib/python3.10/dist-packages (from typer<0.10.0,>=0.3.0->spacy<3.7.0,>=3.6.0->en-core-web-md==3.6.0) (8.1.7)\n",
            "Requirement already satisfied: MarkupSafe>=2.0 in /usr/local/lib/python3.10/dist-packages (from jinja2->spacy<3.7.0,>=3.6.0->en-core-web-md==3.6.0) (2.1.3)\n",
            "Installing collected packages: en-core-web-md\n",
            "Successfully installed en-core-web-md-3.6.0\n",
            "\u001b[38;5;2m✔ Download and installation successful\u001b[0m\n",
            "You can now load the package via spacy.load('en_core_web_md')\n"
          ]
        }
      ],
      "source": [
        "!pip install spacy\n",
        "!python -m spacy download en_core_web_sm\n",
        "!python -m spacy download en_core_web_md\n"
      ]
    },
    {
      "cell_type": "code",
      "execution_count": null,
      "metadata": {
        "colab": {
          "base_uri": "https://localhost:8080/"
        },
        "id": "gdyJQqzCryjl",
        "outputId": "f6ebc149-6f42-4b69-83b0-eda7266c1450"
      },
      "outputs": [
        {
          "name": "stderr",
          "output_type": "stream",
          "text": [
            "[nltk_data] Downloading package stopwords to /root/nltk_data...\n",
            "[nltk_data]   Unzipping corpora/stopwords.zip.\n"
          ]
        }
      ],
      "source": [
        "import pandas as pd\n",
        "import spacy\n",
        "from sklearn.metrics.pairwise import cosine_similarity\n",
        "import random\n",
        "import ipywidgets as widgets\n",
        "from IPython.display import display\n",
        "import fitz  # PyMuPDF\n",
        "from nltk.tokenize import word_tokenize\n",
        "from nltk.corpus import stopwords\n",
        "import re\n",
        "import nltk\n",
        "nltk.download('stopwords')\n",
        "from sklearn.feature_extraction.text import CountVectorizer"
      ]
    },
    {
      "cell_type": "code",
      "execution_count": null,
      "metadata": {
        "colab": {
          "background_save": true,
          "base_uri": "https://localhost:8080/"
        },
        "id": "DPnFx2m5FRm5",
        "outputId": "cb76bd51-0c2e-4269-9326-fa1c4c31282a"
      },
      "outputs": [
        {
          "name": "stdout",
          "output_type": "stream",
          "text": [
            "Please choose your branch:\n",
            "Artificial Intelligence\n",
            "Information Technology\n",
            "Computer Science Engineering\n",
            "Data Science\n",
            "Cybersecurity\n",
            "Mechanical Engineering\n",
            "Civil Engineering\n",
            "MBA - Finance\n",
            "MBA - HR\n",
            "Electrical Engineering\n",
            "Electronics and Telecommunication Engineering\n"
          ]
        }
      ],
      "source": [
        "\n",
        "# Define branch-to-job-role mappings\n",
        "branch_job_roles = {\n",
        "    \"Artificial Intelligence\": [\"AI Engineer\", \"Machine Learning Engineer\"],\n",
        "    \"Information Technology\": [\"Software Developer\", \"System Reliability Operator\"],\n",
        "    \"Computer Science Engineering\": [\"Web Developer\"],\n",
        "    \"Data Science\": [\"Data Analyst\", \"Data Scientist\"],\n",
        "    \"Cybersecurity\": [\"Cybersecurity Analyst\", \"Network Security Engineer\", \"Security Architect\"],\n",
        "    \"Mechanical Engineering\": [\"Maintainance Engineer\", \"Automotive Engineer\"],\n",
        "    \"Civil Engineering\": [\"Structural Engineer\", \"Construction Manager\"],\n",
        "    \"MBA - Finance\": [\"Financial Analyst\", \"Operations Manager\"],\n",
        "    \"MBA - HR\": [\"Talent Acquisition Manager\", \"Training and Development Manager\"],\n",
        "    \"Electrical Engineering\": [\"Control System Engineer\", \"Instrumentation Engineer\"],\n",
        "    \"Electronics and Telecommunication Engineering\":[\"Embedded System Engineer\", \"Telecomm Project Manager\"],\n",
        "}\n",
        "\n",
        "# Ask the user for their branch\n",
        "print(\"Please choose your branch:\")\n",
        "for branch in branch_job_roles.keys():\n",
        "    print(branch)\n",
        "\n",
        "user_branch = input(\"Enter your branch: \").strip()\n",
        "\n",
        "\n",
        "# Check if the user's branch choice is valid\n",
        "if user_branch in branch_job_roles:\n",
        "    branch = user_branch\n",
        "    job_roles = branch_job_roles[branch]\n",
        "\n",
        "    print(f\"Job roles for {branch}:\")\n",
        "    for i, role in enumerate(job_roles, start=1):\n",
        "        print(f\"{i}. {role}\")\n",
        "\n",
        "    # Ask the user to choose a job role\n",
        "    user_choice = input(\"Choose a job role (enter the number): \").strip()\n",
        "\n",
        "    try:\n",
        "        user_choice = int(user_choice)\n",
        "        if 1 <= user_choice <= len(job_roles):\n",
        "            selected_job_role = job_roles[user_choice - 1]\n",
        "            print(f\"You have selected the job role: {selected_job_role}\")\n",
        "        else:\n",
        "            print(\"Invalid choice. Please enter a valid number.\")\n",
        "    except ValueError:\n",
        "        print(\"Invalid input. Please enter a number.\")\n",
        "else:\n",
        "    print(\"Invalid branch choice. Please choose from the provided options.\")"
      ]
    },
    {
      "cell_type": "code",
      "execution_count": null,
      "metadata": {
        "colab": {
          "base_uri": "https://localhost:8080/"
        },
        "id": "sXmT3CgspNGw",
        "outputId": "7a0066d4-0a5b-43d1-cdb4-7cb8c248af53"
      },
      "outputs": [
        {
          "name": "stdout",
          "output_type": "stream",
          "text": [
            "Section: Experience\n",
            "Keywords: ['experiences', 'foodiefix', 'ventures', 'data', 'scientist', 'nov', '2021', 'dec', '2021', 'conducted', 'data', 'analysis', 'predictive', 'modeling', 'identify', 'trends', 'patterns', 'utilized', 'data', 'mining', 'feature', 'engineering', 'techniques', 'optimize', 'model', 'performance', 'developed', 'deployed', 'machine', 'learning', 'models', 'real', 'time', 'data', 'driven', 'decision', 'making', 'urbanpulse', 'creations', 'statistical', 'analyst', 'feb', '2022', 'april', '2022', 'performed', 'exploratory', 'data', 'analysis', 'eda', 'regression', 'analysis', 'understand', 'data', 'relationships', 'collaborated', 'classification', 'clustering', 'algorithms', 'customer', 'segmentation', 'utilized', 'natural', 'language', 'processing', 'nlp', 'extract', 'insights', 'unstructured', 'data']\n",
            "Section: Projects\n",
            "Keywords: ['projects', 'customer', 'churn', 'prediction', 'github', 'built', 'predictive', 'model', 'identify', 'potential', 'customer', 'churn', 'reducing', 'churn', 'rates', '15', 'utilized', 'ensemble', 'methods', 'cross', 'validation', 'improve', 'model', 'accuracy', 'conducted', 'b', 'testing', 'validate', 'effectiveness', 'retention', 'strategies', 'recommender', 'system', 'development', 'github', 'designed', 'implemented', 'recommendation', 'system', 'increasing', 'user', 'engagement', '20', 'utilized', 'collaborative', 'filtering', 'matrix', 'factorization', 'techniques', 'recommendation', 'conducted', 'hypothesis', 'testing', 'measure', 'impact', 'recommendation', 'system']\n",
            "Section: Education\n",
            "Keywords: ['education', 'b', 'tech', 'data', 'science', 'g', 'h', 'raisoni', 'college', 'engineering', 'cgpa', '9', '20']\n",
            "Section: Skills\n",
            "Keywords: ['skills', 'data', 'scientist', 'data', 'analysis', 'machine', 'learning', 'statistical', 'analysis', 'predictive', 'modeling', 'data', 'mining', 'data', 'visualization', 'data', 'manipulation', 'data', 'cleaning', 'exploratory', 'data', 'analysis']\n"
          ]
        }
      ],
      "source": [
        "# Open the PDF file\n",
        "pdf_file = \"/content/Harsh Dhote data scientist.pdf\"\n",
        "pdf_document = fitz.open(pdf_file)\n",
        "\n",
        "# Initialize section markers\n",
        "section_markers = [\"Experience\", \"Education\",\"Skills\", \"Projects\"]\n",
        "current_section = None\n",
        "sections = {}\n",
        "\n",
        "# Initialize NLTK stopwords\n",
        "stop_words = set(stopwords.words('english'))\n",
        "\n",
        "# Define a regular expression to match words\n",
        "word_pattern = re.compile(r'\\b\\w+\\b')\n",
        "\n",
        "# Iterate through the pages and extract text\n",
        "for page_number in range(pdf_document.page_count):\n",
        "    page = pdf_document.load_page(page_number)\n",
        "    page_text = page.get_text()\n",
        "\n",
        "    for line in page_text.split('\\n'):\n",
        "        # Check for section markers\n",
        "        for marker in section_markers:\n",
        "            if marker.lower() in line.lower():\n",
        "                current_section = marker\n",
        "                if current_section not in sections:\n",
        "                    sections[current_section] = []\n",
        "                continue\n",
        "\n",
        "        # If a section has been identified, tokenize and store words\n",
        "        if current_section:\n",
        "            # Use regular expression to extract words\n",
        "            words = word_pattern.findall(line)\n",
        "            filtered_words = [word.lower() for word in words if word.lower() not in stop_words]\n",
        "            sections[current_section].extend(filtered_words)\n",
        "\n",
        "\n",
        "pdf_document.close()\n",
        "# Create dictionaries to store keywords for each section\n",
        "section_keywords = {section: words for section, words in sections.items()}\n",
        "\n",
        "# Print and/or process the words under each section\n",
        "for section, words in sections.items():\n",
        "    print(f\"Section: {section}\")\n",
        "    print(\"Keywords:\", words)"
      ]
    },
    {
      "cell_type": "code",
      "execution_count": null,
      "metadata": {
        "colab": {
          "base_uri": "https://localhost:8080/"
        },
        "id": "Kqwob1cc7Oaj",
        "outputId": "37eb9445-59c1-4f70-9b2b-1100ee2ecbdb"
      },
      "outputs": [
        {
          "name": "stdout",
          "output_type": "stream",
          "text": [
            "Credibility : 0.012888481555661677\n"
          ]
        }
      ],
      "source": [
        "# comparison for creditibility\n",
        "# matching project with skills\n",
        "#jaccard similarity\n",
        "'''x=section_keywords[\"Projects\"]\n",
        "y=section_keywords[\"Skills\"]\n",
        "intersection_cardinality = len(set.intersection(*[set(x), set(y)]))\n",
        "union_cardinality = len(set.union(*[set(x), set(y)]))\n",
        "credibility=intersection_cardinality/float(union_cardinality)\n",
        "print(credibility)'''\n",
        "\n",
        "str1 = \" \".join(section_keywords[\"Projects\"])\n",
        "str2 = \" \".join(section_keywords[\"Skills\"])\n",
        "# Create a CountVectorizer\n",
        "vectorizer = CountVectorizer().fit_transform([str1, str2])\n",
        "# Calculate the cosine similarity\n",
        "cosine_sim = cosine_similarity(vectorizer)\n",
        "# The cosine similarity score is in cosine_sim[0][1]\n",
        "similarity_score_credibility= cosine_sim[0][1]\n",
        "\n",
        "print(f\"Credibility : {similarity_score_credibility}\")\n",
        "scaled_similarity_credibility= (similarity_score_credibility + 1) / 2  # Scales to [0, 1]"
      ]
    },
    {
      "cell_type": "code",
      "execution_count": null,
      "metadata": {
        "id": "wIK_q9fWU37e"
      },
      "outputs": [],
      "source": [
        "job_keywords = {\n",
        "    \"Software Developer\": [\n",
        "        \"software\",\"developer\",\"programming\",\"coding\",\"software\",\"engineering\",\"debugging\",\"algorithms\",\"web\",\"development\",\"version\",\"control\",\"testing\",\"problem-solving\",\"software\",\"architecture\",\"code\",\"review\",\"source\",\"code\",\"software\",\"framework\",\"api\",\"integration\",\"software\",\"deployment\",\"agile\",\"methodology\",\"scrum\",\"software\",\"documentation\",\"full-stack\",\"development\",\"unit\",\"testing\",\"object-oriented\",\"programming\",\"continuous\",\"integration\",\"sdlc\",\"software\",\"maintenance\",\"ides\",\"front-end\",\"frameworks\",\"back-end\",\"frameworks\",\"restful\",\"apis\",\"front-end\",\"development\",\"back-end\",\"development\",\"responsive\",\"design\",\"cross\",\"browser\",\"compatibility\",\"ux/ui\",\"design\",\"web\",\"performance\",\"optimization\",\"cms\",\"ajax\",\"user\",\"authentication\",\"server-side\",\"scripting\",\"client-side\",\"scripting\",\"web\",\"security\",\"cloud\",\"computing\",\"api\",\"design\",\"dependency\",\"management\",\"git\",\"code\",\"collaboration\",\"software\",\"quality\",\"assurance\",\"debugging\",\"tools\"\n",
        "        ],\n",
        "    \"Web Developer\": [\n",
        "        \"html\", \"css\", \"javascript\", \"front-end\", \"back-end\", \"responsive\", \"design\", \"user\", \"experience\", \"web\", \"design\", \"content\", \"management\", \"cross-browser\", \"compatibility\", \"html5\", \"css3\", \"dom\", \"manipulation\", \"ajax\", \"responsive\", \"frameworks\", \"web\", \"templates\", \"seo\", \"cms\", \"ui/ux\", \"design\", \"web\", \"accessibility\", \"cross-platform\", \"development\", \"progressive\", \"web\", \"apps\", \"responsive\", \"images\", \"web\", \"animation\", \"cross-origin\", \"resource\", \"sharing\", \"user\", \"authentication\", \"web\", \"performance\", \"optimization\", \"browser\", \"developer\", \"tools\", \"web\", \"security\", \"w3c\", \"standards\", \"client-side\", \"frameworks\", \"server-side\", \"frameworks\", \"restful\", \"apis\", \"web\", \"hosting\", \"front-end\", \"build\", \"tools\", \"version\", \"control\", \"static\", \"site\", \"generators\", \"code\", \"editors\", \"web\", \"development\", \"best\", \"practices\", \"web\", \"development\", \"trends\", \"responsive\", \"web\", \"design\", \"web\", \"performance\", \"metrics\", \"e-commerce\", \"development\", \"ajax\", \"libraries\"\n",
        "        ],\n",
        "    \"Data Scientist\": [\"data\", \"analysis\", \"machine\", \"learning\", \"statistics\", \"data\", \"visualization\", \"big\", \"data\", \"data\", \"mining\", \"python\", \"r\", \"data\", \"modeling\", \"data\", \"preprocessing\", \"predictive\", \"modeling\", \"data\", \"cleaning\", \"data\", \"interpretation\", \"data\", \"exploration\", \"data-driven\", \"decision\", \"making\", \"data\", \"integration\", \"feature\", \"engineering\", \"supervised\", \"learning\", \"unsupervised\", \"learning\", \"regression\", \"analysis\", \"classification\", \"algorithms\", \"clustering\", \"algorithms\", \"time\", \"series\", \"analysis\", \"data\", \"pipelines\", \"data\", \"wrangling\", \"data\", \"transformation\", \"data\", \"warehousing\", \"data\", \"analytics\", \"data\", \"storytelling\", \"a/b\", \"testing\", \"hadoop\", \"spark\", \"deep\", \"learning\", \"natural\", \"language\", \"processing\", \"computer\", \"vision\", \"ensemble\", \"learning\", \"model\", \"evaluation\", \"cross-validation\", \"data\", \"munging\", \"data\", \"normalization\", \"data\", \"scaling\", \"data\", \"indexing\", \"data\", \"imputation\", \"data\", \"preprocessing\", \"libraries\", \"data\", \"visualization\", \"tools\", \"data\", \"analysis\", \"software\", \"data\", \"reporting\", \"data\", \"analytics\", \"platforms\", \"data\", \"exploration\", \"techniques\", \"data\", \"visualization\", \"techniques\", \"data\", \"analytics\", \"best\", \"practices\", \"data\", \"mining\", \"tools\", \"predictive\", \"modeling\", \"techniques\", \"regression\", \"analysis\", \"tools\", \"machine\", \"learning\", \"libraries\", \"feature\", \"selection\", \"data\", \"storytelling\", \"techniques\", \"data\", \"analysis\", \"libraries\", \"data-driven\", \"insights\", \"data\", \"interpretation\", \"tools\", \"a/b\", \"testing\", \"platforms\", \"big\", \"data\", \"technologies\", \"data\", \"wrangling\", \"tools\", \"data\", \"transformation\", \"techniques\", \"data\", \"warehousing\", \"solutions\", \"time\", \"series\", \"analysis\", \"tools\", \"clustering\", \"algorithms\", \"software\", \"classification\", \"algorithms\", \"libraries\" ],\n",
        "    \"Machine Learning Engineer\": [\"machine\", \"learning\", \"deep\", \"learning\", \"neural\", \"networks\", \"python\", \"data\", \"preprocessing\", \"model\", \"evaluation\", \"feature\", \"engineering\", \"natural\", \"language\", \"processing\", \"computer\", \"vision\", \"data\", \"modeling\", \"supervised\", \"learning\", \"unsupervised\", \"learning\", \"reinforcement\", \"learning\", \"nlp\", \"libraries\", \"cv\", \"libraries\", \"time\", \"series\", \"analysis\", \"ensemble\", \"learning\", \"dimensionality\", \"reduction\", \"model\", \"deployment\", \"hyperparameter\", \"tuning\", \"gpu\", \"acceleration\", \"automated\", \"machine\", \"learning\", \"transfer\", \"learning\", \"data\", \"augmentation\", \"model\", \"interpretation\", \"model\", \"selection\", \"data\", \"pipelines\", \"ai\", \"development\", \"deep\", \"learning\", \"frameworks\", \"distributed\", \"computing\", \"big\", \"data\", \"technologies\", \"algorithm\", \"development\", \"tensorflow\", \"keras\", \"pytorch\", \"scikit-learn\", \"xgboost\", \"random\", \"forest\", \"support\", \"vector\", \"machines\", \"naive\", \"bayes\", \"k-means\", \"clustering\", \"dbscan\", \"k-nearest\", \"neighbors\", \"recurrent\", \"neural\", \"networks\", \"convolutional\", \"neural\", \"networks\", \"long\", \"short-term\", \"memory\", \"transformer\", \"models\", \"word\", \"embeddings\", \"image\", \"recognition\", \"object\", \"detection\", \"natural\", \"language\", \"understanding\", \"machine\", \"translation\", \"chatbot\", \"development\", \"speech\", \"recognition\", \"predictive\", \"modeling\", \"model\", \"evaluation\", \"metrics\", \"cross-validation\", \"techniques\", \"data\", \"preprocessing\", \"tools\", \"model\", \"deployment\", \"platforms\", \"hyperparameter\", \"optimization\", \"gpu\", \"frameworks\", \"automated\", \"machine\", \"learning\", \"tools\", \"transfer\", \"learning\", \"libraries\", \"data\", \"augmentation\", \"techniques\", \"model\", \"interpretation\", \"tools\", \"model\", \"selection\", \"techniques\", \"ai\", \"development\", \"frameworks\", \"deep\", \"learning\", \"platforms\"\n",
        "        ],\n",
        "    \"Data Analyst\": [\"data\", \"analysis\", \"data\", \"visualization\", \"statistics\", \"data\", \"cleaning\", \"excel\", \"data\", \"interpretation\", \"data\", \"mining\", \"pivot\", \"tables\", \"data\", \"reporting\", \"data\", \"manipulation\", \"data\", \"dashboards\", \"data\", \"extraction\", \"data\", \"modeling\", \"data\", \"exploration\", \"data\", \"aggregation\", \"data\", \"filtering\", \"data\", \"transformation\", \"data\", \"validation\", \"data\", \"summarization\", \"data\", \"migration\", \"data\", \"queries\", \"data\", \"warehousing\", \"business\", \"intelligence\", \"report\", \"generation\", \"dashboard\", \"tools\", \"data\", \"analysis\", \"software\", \"data\", \"visualization\", \"tools\", \"statistics\", \"software\", \"excel\", \"functions\", \"data\", \"interpretation\", \"techniques\", \"data\", \"mining\", \"algorithms\", \"pivot\", \"table\", \"functions\", \"data\", \"reporting\", \"tools\", \"data\", \"cleaning\", \"methods\", \"data\", \"manipulation\", \"techniques\", \"data\", \"dashboard\", \"platforms\", \"data\", \"extraction\", \"tools\", \"data\", \"modeling\", \"techniques\", \"data\", \"exploration\", \"methods\", \"data\", \"aggregation\", \"techniques\", \"data\", \"filtering\", \"methods\", \"data\", \"transformation\", \"tools\", \"data\", \"validation\", \"techniques\", \"data\", \"summarization\", \"methods\", \"data\", \"migration\", \"techniques\", \"data\", \"query\", \"tools\", \"data\", \"warehousing\", \"solutions\", \"business\", \"intelligence\", \"platforms\", \"report\", \"generation\", \"tools\"\n",
        "\n",
        "        ],\n",
        "    \"Cybersecurity Analyst\": [\"cybersecurity\", \"network\", \"security\", \"firewalls\", \"intrusion\", \"detection\", \"security\", \"policies\", \"incident\", \"response\", \"ethical\", \"hacking\", \"vulnerability\", \"assessment\", \"penetration\", \"testing\", \"threat\", \"analysis\", \"security\", \"protocols\", \"security\", \"compliance\", \"security\", \"audits\", \"security\", \"controls\", \"security\", \"architecture\", \"security\", \"incident\", \"management\", \"malware\", \"analysis\", \"security\", \"awareness\", \"risk\", \"management\", \"security\", \"assessment\", \"tools\", \"threat\", \"intelligence\", \"security\", \"monitoring\", \"security\", \"forensics\", \"security\", \"software\", \"firewall\", \"rules\", \"cybersecurity\", \"frameworks\", \"security\", \"best\", \"practices\", \"security\", \"assessments\", \"siem\", \"ids/ips\", \"utm\", \"vulnerability\", \"scanning\", \"patch\", \"management\", \"incident\", \"handling\", \"security\", \"standards\", \"network\", \"monitoring\", \"security\", \"incident\", \"response\", \"cyber\", \"threat\", \"intelligence\", \"network\", \"intrusion\", \"detection\", \"firewall\", \"configuration\", \"ethical\", \"hacking\", \"techniques\", \"vulnerability\", \"assessment\", \"tools\", \"penetration\", \"testing\", \"tools\", \"threat\", \"analysis\", \"methods\", \"security\", \"protocol\", \"standards\", \"security\", \"compliance\", \"frameworks\", \"security\", \"audit\", \"tools\", \"security\", \"control\", \"frameworks\", \"security\", \"architecture\", \"principles\", \"security\", \"incident\", \"management\", \"tools\", \"malware\", \"analysis\", \"techniques\", \"security\", \"awareness\", \"programs\", \"risk\", \"management\", \"strategies\", \"security\", \"assessment\", \"frameworks\", \"threat\", \"intelligence\", \"platforms\", \"security\", \"monitoring\", \"solutions\", \"security\", \"forensics\", \"tools\", \"security\", \"software\", \"platforms\", \"firewall\", \"rules\", \"configuration\", \"cybersecurity\", \"framework\", \"implementation\", \"security\", \"best\", \"practices\", \"guidelines\", \"security\", \"assessment\", \"methodologies\"\n",
        "        ],\n",
        "\n",
        "    \"AI Engineer\": [\"artificial\", \"intelligence\", \"machine\", \"learning\", \"python\", \"natural\", \"language\", \"processing\", \"deep\", \"learning\", \"ai\", \"algorithms\", \"data\", \"preprocessing\", \"computer\", \"vision\", \"neural\", \"networks\", \"deep\", \"learning\", \"frameworks\", \"nlp\", \"libraries\", \"recommendation\", \"systems\", \"ai\", \"ethics\", \"reinforcement\", \"learning\", \"chatbot\", \"development\", \"ai\", \"deployment\", \"model\", \"training\", \"ai\", \"model\", \"evaluation\", \"ai\", \"research\", \"ai\", \"toolkits\", \"ai\", \"platforms\", \"ai\", \"data\", \"pipelines\", \"image\", \"recognition\", \"speech\", \"recognition\", \"ai\", \"applications\", \"ai\", \"problem-solving\", \"ai\", \"project\", \"management\", \"ai\", \"hardware\", \"data\", \"labeling\", \"ai\", \"in\", \"healthcare\", \"ai\", \"in\", \"finance\", \"ai\", \"in\", \"retail\", \"ai\", \"in\", \"education\", \"ai\", \"in\", \"manufacturing\", \"ai\", \"in\", \"autonomous\", \"vehicles\", \"ai\", \"in\", \"gaming\", \"ai\", \"in\", \"social\", \"media\", \"ai\", \"in\", \"customer\", \"service\", \"ai\", \"in\", \"natural\", \"language\", \"understanding\", \"ai\", \"in\", \"recommendation\", \"systems\", \"ai\", \"in\", \"fraud\", \"detection\", \"ai\", \"in\", \"image\", \"analysis\", \"ai\", \"in\", \"data\", \"classification\", \"ai\", \"in\", \"predictive\", \"maintenance\", \"ai\", \"in\", \"anomaly\", \"detection\", \"ai\", \"in\", \"language\", \"translation\", \"ai\", \"in\", \"data\", \"generation\", \"ai\", \"in\", \"robotics\", \"ai\", \"in\", \"virtual\", \"reality\", \"ai\", \"in\", \"augmented\", \"reality\", \"ai\", \"in\", \"speech\", \"synthesis\", \"ai\", \"in\", \"autonomous\", \"drones\", \"ai\", \"in\", \"autonomous\", \"robots\", \"ai\", \"in\", \"autonomous\", \"machinery\", \"ai\", \"in\", \"autonomous\", \"systems\", \"ai\", \"in\", \"autonomous\", \"vehicles\", \"ai\", \"in\", \"game\", \"development\", \"ai\"],\n",
        "\n",
        "    \"Automotive Engineer\": [\"automotive\", \"design\", \"vehicle\", \"dynamics\", \"engine\", \"mechanics\", \"vehicle\", \"safety\", \"vehicle\", \"performance\", \"fuel\", \"efficiency\", \"emissions\", \"control\", \"crash\", \"testing\", \"material\", \"selection\", \"automotive\", \"aerodynamics\", \"suspension\", \"systems\", \"transmission\", \"systems\", \"brake\", \"systems\", \"steering\", \"systems\", \"chassis\", \"design\", \"engine\", \"optimization\", \"powertrain\", \"technology\", \"automotive\", \"electronics\", \"autonomous\", \"vehicles\", \"connected\", \"vehicles\", \"electric\", \"vehicles\", \"hybrid\", \"vehicles\", \"fuel\", \"cell\", \"technology\", \"emerging\", \"automotive\", \"trends\", \"automotive\", \"manufacturing\", \"automotive\", \"materials\", \"safety\", \"regulations\", \"vehicle\", \"certification\", \"vehicle\", \"testing\", \"automotive\", \"prototyping\", \"vehicle\", \"modeling\", \"vehicle\", \"simulation\", \"vehicle\", \"validation\", \"vehicle\", \"maintenance\", \"automotive\", \"innovation\", \"automotive\", \"research\", \"vehicle\", \"standards\", \"vehicle\", \"systems\", \"vehicle\", \"reliability\", \"vehicle\", \"ergonomics\", \"vehicle\", \"comfort\", \"vehicle\", \"aesthetics\", \"automotive\", \"cad\", \"automotive\", \"cae\", \"automotive\", \"manufacturing\", \"techniques\", \"automotive\", \"materials\", \"selection\", \"safety\", \"regulations\", \"compliance\", \"vehicle\", \"certification\", \"procedures\", \"vehicle\", \"testing\", \"methodologies\", \"automotive\", \"prototyping\", \"methods\", \"vehicle\", \"modeling\", \"techniques\", \"vehicle\", \"simulation\", \"tools\", \"vehicle\", \"validation\", \"procedures\", \"vehicle\", \"maintenance\", \"automotive\", \"innovation\", \"automotive\", \"research\", \"vehicle\", \"standards\", \"vehicle\", \"systems\", \"vehicle\", \"reliability\", \"vehicle\", \"ergonomics\", \"vehicle\", \"comfort\", \"vehicle\", \"aesthetics\", \"automotive\", \"cad\", \"automotive\", \"cae\", \"automotive\", \"manufacturing\", \"techniques\", \"automotive\", \"materials\", \"selection\", \"safety\", \"regulations\", \"compliance\", \"vehicle\", \"certification\", \"procedures\", \"vehicle\", \"testing\", \"methodologies\", \"automotive\", \"prototyping\", \"methods\", \"vehicle\", \"modeling\", \"techniques\", \"vehicle\", \"simulation\", \"tools\", \"vehicle\", \"validation\", \"procedures\", \"vehicle\", \"maintenance\", \"automotive\", \"innovation\", \"automotive\", \"research\", \"vehicle\", \"standards\", \"vehicle\", \"systems\", \"vehicle\", \"reliability\", \"vehicle\", \"ergonomics\", \"vehicle\", \"comfort\", \"vehicle\", \"aesthetics\", \"automotive\", \"cad\", \"automotive\", \"cae\", \"automotive\", \"manufacturing\", \"techniques\", \"automotive\", \"materials\", \"selection\", \"safety\", \"regulations\", \"compliance\", \"vehicle\", \"certification\", \"procedures\", \"vehicle\", \"testing\", \"methodologies\", \"automotive\", \"prototyping\", \"methods\", \"vehicle\", \"modeling\", \"techniques\", \"vehicle\", \"simulation\", \"tools\", \"vehicle\", \"validation\", \"procedures\", \"vehicle\", \"maintenance\", \"automotive\", \"innovation\", \"automotive\", \"research\", \"vehicle\", \"standards\", \"vehicle\", \"systems\", \"vehicle\", \"reliability\", \"vehicle\", \"ergonomics\", \"vehicle\", \"comfort\", \"vehicle\", \"aesthetics\", \"automotive\", \"cad\", \"automotive\", \"cae\", \"automotive\", \"manufacturing\", \"techniques\", \"automotive\", \"materials\", \"selection\", \"safety\", \"regulations\", \"compliance\", \"vehicle\", \"certification\", \"procedures\", \"vehicle\", \"testing\", \"methodologies\", \"automotive\", \"prototyping\", \"methods\", \"vehicle\", \"modeling\", \"techniques\"],\n",
        "\n",
        "    \"Structural Engineer\": [\"structural\", \"analysis\", \"building\", \"design\", \"construction\", \"materials\", \"engineering\", \"software\", \"structural\", \"modeling\", \"load-bearing\", \"analysis\", \"foundation\", \"design\", \"structural\", \"integrity\", \"structural\", \"testing\", \"structural\", \"inspections\", \"structural\", \"rehabilitation\", \"bridge\", \"design\", \"seismic\", \"analysis\", \"wind\", \"analysis\", \"steel\", \"structures\", \"concrete\", \"structures\", \"timber\", \"structures\", \"masonry\", \"structures\", \"retrofitting\", \"structural\", \"safety\", \"structural\", \"code\", \"compliance\", \"finite\", \"element\", \"analysis\", \"structural\", \"cad\", \"software\", \"structural\", \"engineering\", \"standards\", \"building\", \"information\", \"modeling\", \"structural\", \"stability\", \"structural\", \"drawings\", \"construction\", \"documentation\", \"structural\", \"analysis\", \"tools\", \"building\", \"design\", \"software\", \"construction\", \"materials\", \"testing\", \"engineering\", \"software\", \"proficiency\", \"structural\", \"modeling\", \"load-bearing\", \"analysis\", \"foundation\", \"design\", \"structural\", \"integrity\", \"structural\", \"testing\", \"structural\", \"inspections\", \"structural\", \"rehabilitation\", \"bridge\", \"design\", \"seismic\", \"analysis\", \"wind\", \"analysis\", \"steel\", \"structures\", \"concrete\", \"structures\", \"timber\", \"structures\", \"masonry\", \"structures\", \"retrofitting\", \"structural\", \"safety\", \"structural\", \"code\", \"compliance\", \"finite\", \"element\", \"analysis\", \"structural\", \"cad\", \"software\", \"structural\", \"engineering\", \"standards\", \"building\", \"information\", \"modeling\", \"structural\", \"stability\", \"structural\", \"drawings\", \"construction\", \"documentation\", \"structural\", \"analysis\", \"tools\", \"building\", \"design\", \"software\", \"construction\", \"materials\", \"testing\", \"engineering\", \"software\", \"proficiency\", \"structural\", \"modeling\", \"load-bearing\", \"analysis\", \"foundation\", \"design\", \"structural\", \"integrity\", \"structural\", \"testing\", \"structural\", \"inspections\", \"structural\", \"rehabilitation\", \"bridge\", \"design\", \"seismic\", \"analysis\", \"wind\", \"analysis\", \"steel\", \"structures\", \"concrete\", \"structures\", \"timber\", \"structures\", \"masonry\", \"structures\", \"retrofitting\", \"structural\", \"safety\", \"structural\", \"code\", \"compliance\", \"finite\", \"element\", \"analysis\", \"structural\", \"cad\", \"software\", \"structural\", \"engineering\", \"standards\", \"building\", \"information\", \"modeling\", \"structural\", \"stability\", \"structural\", \"drawings\", \"construction\", \"documentation\", \"structural\", \"analysis\", \"tools\", \"building\", \"design\", \"software\", \"construction\", \"materials\", \"testing\", \"engineering\", \"software\", \"proficiency\"\n",
        "\n",
        "        ],\n",
        "    \"Construction Manager\": [\"construction\", \"management\", \"project\", \"planning\", \"budgeting\", \"site\", \"supervision\", \"contract\", \"management\", \"quality\", \"control\", \"scheduling\", \"safety\", \"regulations\", \"construction\", \"specifications\", \"construction\", \"drawings\", \"project\", \"documentation\", \"construction\", \"project\", \"budgeting\", \"site\", \"inspections\", \"subcontractor\", \"management\", \"construction\", \"cost\", \"estimation\", \"construction\", \"scheduling\", \"regulatory\", \"compliance\", \"environmental\", \"impact\", \"assessment\", \"construction\", \"safety\", \"risk\", \"analysis\", \"construction\", \"contracts\", \"construction\", \"procurement\", \"stakeholder\", \"communication\", \"change\", \"management\", \"construction\", \"progress\", \"tracking\", \"resource\", \"allocation\", \"conflict\", \"resolution\", \"time\", \"management\", \"cost\", \"control\", \"procurement\", \"construction\", \"technology\", \"lean\", \"construction\", \"value\", \"engineering\", \"building\", \"codes\", \"construction\", \"standards\", \"sustainable\", \"construction\", \"construction\", \"management\", \"software\", \"project\", \"management\", \"software\", \"construction\", \"cost\", \"estimation\", \"software\", \"construction\", \"scheduling\", \"software\", \"regulatory\", \"compliance\", \"environmental\", \"impact\", \"assessment\", \"software\", \"construction\", \"safety\", \"risk\", \"analysis\", \"construction\", \"contracts\", \"construction\", \"procurement\", \"stakeholder\", \"communication\", \"change\", \"management\", \"construction\", \"progress\", \"tracking\", \"resource\", \"allocation\", \"conflict\", \"resolution\"\n",
        "\n",
        "        ],\n",
        "    \"Financial Analyst\": [\"financial\", \"analysis\", \"risk\", \"management\", \"investment\", \"analysis\", \"financial\", \"modeling\", \"financial\", \"reporting\", \"valuation\", \"portfolio\", \"management\", \"investment\", \"strategies\", \"equity\", \"research\", \"financial\", \"markets\", \"asset\", \"allocation\", \"financial\", \"forecasting\", \"budgeting\", \"financial\", \"software\", \"data\", \"analysis\", \"financial\", \"statements\", \"financial\", \"regulations\", \"macroeconomics\", \"microeconomics\", \"investment\", \"valuation\", \"financial\", \"planning\", \"business\", \"finance\", \"cash\", \"flow\", \"analysis\", \"financial\", \"modeling\", \"tools\", \"investment\", \"research\", \"financial\", \"data\", \"analysis\", \"fundamental\", \"analysis\", \"technical\", \"analysis\", \"market\", \"research\", \"financial\", \"risk\", \"assessment\", \"investment\", \"portfolio\", \"analysis\", \"financial\", \"decision-making\", \"investment\", \"decision-making\", \"capital\", \"budgeting\", \"cost\", \"of\", \"capital\", \"financial\", \"ratios\", \"financial\", \"performance\", \"analysis\", \"risk\", \"management\", \"techniques\", \"investment\", \"analysis\", \"methods\", \"financial\", \"modeling\", \"techniques\", \"financial\", \"reporting\", \"standards\", \"valuation\", \"methodologies\", \"portfolio\", \"management\", \"strategies\", \"investment\", \"strategies\", \"implementation\", \"equity\", \"research\", \"principles\", \"financial\", \"markets\", \"analysis\", \"methods\", \"asset\", \"allocation\", \"techniques\", \"financial\", \"forecasting\", \"methods\", \"budgeting\", \"strategies\", \"financial\", \"software\", \"proficiency\", \"data\", \"analysis\", \"techniques\", \"financial\", \"statements\", \"analysis\", \"financial\", \"regulations\", \"adherence\", \"macroeconomics\", \"analysis\", \"microeconomics\", \"analysis\", \"investment\", \"valuation\", \"techniques\", \"financial\", \"planning\", \"strategies\", \"business\", \"finance\", \"principles\", \"cash\", \"flow\", \"analysis\", \"methods\", \"financial\", \"modeling\", \"tools\", \"proficiency\", \"investment\", \"research\", \"methodologies\", \"financial\", \"data\", \"analysis\", \"techniques\", \"fundamental\", \"analysis\", \"principles\", \"technical\", \"analysis\", \"methods\", \"market\", \"research\", \"strategies\", \"financial\", \"risk\", \"assessment\", \"techniques\", \"investment\", \"portfolio\", \"analysis\", \"methods\", \"financial\", \"decision-making\", \"strategies\", \"investment\", \"decision-making\", \"methods\", \"capital\", \"budgeting\", \"techniques\", \"cost\", \"of\", \"capital\", \"evaluation\", \"financial\", \"ratios\", \"analysis\", \"financial\", \"performance\", \"analysis\", \"methods\"\n",
        "        ],\n",
        "\n",
        "    \"System Reliability Operator\": [\"system\", \"reliability\", \"uptime\", \"monitoring\", \"fault\", \"detection\", \"incident\", \"response\", \"system\", \"maintenance\", \"reliability\", \"tools\", \"performance\", \"optimization\", \"failover\", \"planning\", \"disaster\", \"recovery\", \"IT\", \"infrastructure\", \"reliability\", \"standards\", \"system\", \"monitoring\", \"root\", \"cause\", \"analysis\", \"automation\", \"system\", \"configuration\", \"management\", \"reliability\", \"metrics\", \"service\", \"level\", \"agreements\", \"incident\", \"management\", \"log\", \"analysis\", \"system\", \"health\", \"checks\", \"system\", \"diagnostics\", \"reliability\", \"engineering\", \"incident\", \"resolution\", \"fault\", \"tolerance\", \"SLA\", \"compliance\", \"system\", \"recovery\", \"redundancy\", \"strategies\", \"uptime\", \"optimization\", \"system\", \"performance\", \"metrics\", \"system\", \"troubleshooting\", \"incident\", \"tracking\", \"system\", \"documentation\", \"system\", \"architecture\", \"reliability\", \"testing\", \"system\", \"scalability\", \"capacity\", \"planning\", \"system\", \"backup\", \"solutions\", \"security\", \"monitoring\", \"system\", \"patch\", \"management\", \"reliability\", \"software\", \"uptime\", \"improvement\", \"system\", \"audit\", \"availability\", \"analysis\", \"incident\", \"prevention\", \"reliability\", \"protocols\", \"system\", \"deployment\", \"system\", \"reliability\", \"best\", \"practices\", \"uptime\", \"maintenance\", \"incident\", \"remediation\", \"system\", \"optimization\", \"reliability\", \"audits\", \"performance\", \"tuning\", \"system\", \"recovery\", \"procedures\", \"reliability\", \"strategy\", \"development\", \"uptime\", \"analysis\", \"system\", \"inspection\", \"incident\", \"mitigation\", \"system\", \"audit\", \"trails\", \"SLA\", \"tracking\", \"redundancy\", \"implementation\", \"uptime\", \"enhancement\", \"system\", \"performance\", \"analysis\", \"system\", \"monitoring\", \"software\", \"reliability\", \"tool\", \"proficiency\", \"performance\", \"optimization\", \"techniques\", \"failover\", \"planning\", \"strategies\", \"disaster\", \"recovery\", \"procedures\", \"IT\", \"infrastructure\", \"management\", \"reliability\", \"standards\", \"adherence\", \"system\", \"monitoring\", \"methods\", \"root\", \"cause\", \"analysis\", \"skills\", \"automation\", \"tools\", \"proficiency\", \"system\", \"configuration\", \"management\", \"expertise\", \"reliability\", \"metrics\", \"analysis\", \"service\", \"level\", \"agreements\", \"management\", \"incident\", \"management\", \"skills\", \"log\", \"analysis\", \"proficiency\", \"system\", \"health\", \"checks\", \"procedures\", \"system\", \"diagnostics\", \"proficiency\", \"reliability\", \"engineering\", \"knowledge\", \"incident\", \"resolution\", \"techniques\", \"fault\", \"tolerance\", \"principles\", \"SLA\", \"compliance\", \"tracking\", \"system\", \"recovery\", \"methods\", \"redundancy\", \"strategies\", \"implementation\", \"uptime\", \"optimization\", \"techniques\", \"system\", \"performance\", \"metrics\", \"analysis\", \"system\", \"troubleshooting\", \"methods\", \"incident\", \"tracking\", \"tools\", \"utilization\", \"system\", \"documentation\", \"management\", \"system\", \"architecture\", \"knowledge\", \"reliability\", \"testing\", \"procedures\", \"utilization\", \"system\", \"scalability\", \"principles\", \"capacity\", \"planning\", \"techniques\", \"system\", \"backup\", \"solutions\", \"management\", \"security\", \"monitoring\", \"techniques\", \"system\", \"patch\", \"management\", \"procedures\", \"reliability\", \"software\", \"proficiency\", \"uptime\", \"improvement\", \"methods\", \"system\", \"audit\", \"procedures\", \"utilization\", \"availability\", \"analysis\", \"techniques\", \"incident\", \"prevention\", \"strategies\", \"reliability\", \"protocols\", \"adherence\", \"system\", \"deployment\", \"techniques\", \"system\", \"reliability\", \"best\", \"practices\", \"utilization\", \"uptime\", \"maintenance\", \"procedures\", \"utilization\", \"incident\", \"remediation\", \"methods\", \"system\", \"optimization\", \"techniques\", \"utilization\", \"reliability\", \"audits\", \"management\", \"performance\", \"tuning\", \"techniques\", \"system\", \"recovery\", \"procedures\", \"utilization\", \"reliability\", \"strategy\", \"development\", \"methods\", \"uptime\", \"analysis\", \"techniques\", \"system\", \"inspection\", \"procedures\", \"utilization\", \"incident\", \"mitigation\", \"strategies\", \"system\", \"audit\", \"trails\"\n",
        "        ],\n",
        "    \"Maintenance Engineer\": [\"financial\", \"analysis\", \"risk\", \"management\", \"investment\", \"analysis\", \"financial\", \"modeling\", \"financial\", \"reporting\", \"valuation\", \"portfolio\", \"management\", \"investment\", \"strategies\", \"equity\", \"research\", \"financial\", \"markets\", \"asset\", \"allocation\", \"financial\", \"forecasting\", \"budgeting\", \"financial\", \"software\", \"data\", \"analysis\", \"financial\", \"statements\", \"financial\", \"regulations\", \"macroeconomics\", \"microeconomics\", \"investment\", \"valuation\", \"financial\", \"planning\", \"business\", \"finance\", \"cash\", \"flow\", \"analysis\", \"financial\", \"modeling\", \"tools\", \"investment\", \"research\", \"financial\", \"data\", \"analysis\", \"fundamental\", \"analysis\", \"technical\", \"analysis\", \"market\", \"research\", \"financial\", \"risk\", \"assessment\", \"investment\", \"portfolio\", \"analysis\", \"financial\", \"decision-making\", \"investment\", \"decision-making\", \"capital\", \"budgeting\", \"cost\", \"of\", \"capital\", \"financial\", \"ratios\", \"financial\", \"performance\", \"analysis\", \"risk\", \"management\", \"techniques\", \"investment\", \"analysis\", \"methods\", \"financial\", \"modeling\", \"techniques\", \"financial\", \"reporting\", \"standards\", \"valuation\", \"methodologies\", \"portfolio\", \"management\", \"strategies\", \"investment\", \"strategies\", \"implementation\", \"equity\", \"research\", \"principles\", \"financial\", \"markets\", \"analysis\", \"methods\", \"asset\", \"allocation\", \"techniques\", \"financial\", \"forecasting\", \"methods\", \"budgeting\", \"strategies\", \"financial\", \"software\", \"proficiency\", \"data\", \"analysis\", \"techniques\", \"financial\", \"statements\", \"analysis\", \"financial\", \"regulations\", \"adherence\", \"macroeconomics\", \"analysis\", \"microeconomics\", \"analysis\", \"investment\", \"valuation\", \"techniques\", \"financial\", \"planning\", \"strategies\", \"business\", \"finance\", \"principles\", \"cash\", \"flow\", \"analysis\", \"methods\", \"financial\", \"modeling\", \"tools\", \"proficiency\", \"investment\", \"research\", \"methodologies\", \"financial\", \"data\", \"analysis\", \"techniques\", \"fundamental\", \"analysis\", \"principles\", \"technical\", \"analysis\", \"methods\", \"market\", \"research\", \"strategies\", \"financial\", \"risk\", \"assessment\", \"techniques\", \"investment\", \"portfolio\", \"analysis\", \"methods\", \"financial\", \"decision-making\", \"strategies\", \"investment\", \"decision-making\", \"methods\", \"capital\", \"budgeting\", \"techniques\", \"cost\", \"of\", \"capital\", \"evaluation\", \"financial\", \"ratios\", \"analysis\", \"financial\", \"performance\", \"analysis\", \"methods\" ,\"maintenance\", \"safety\", \"practices\", \"maintenance\", \"metrics\", \"analysis\", \"maintenance\", \"cost\", \"analysis\", \"proficiency\", \"equipment\", \"calibration\", \"procedures\", \"maintenance\", \"training\", \"methods\", \"equipment\", \"reliability\", \"knowledge\", \"maintenance\", \"compliance\", \"knowledge\", \"maintenance\", \"strategies\", \"implementation\", \"maintenance\", \"optimization\", \"techniques\", \"equipment\", \"installation\", \"procedures\", \"maintenance\", \"support\", \"methods\", \"maintenance\", \"reporting\", \"practices\", \"maintenance\", \"coordination\", \"skills\", \"equipment\", \"upgrades\", \"knowledge\", \"maintenance\", \"supervision\", \"methods\", \"maintenance\", \"records\", \"management\", \"maintenance\", \"tools\", \"utilization\", \"equipment\", \"cleaning\", \"procedures\", \"maintenance\", \"best\", \"practices\", \"implementation\", \"maintenance\", \"inspections\", \"procedures\", \"equipment\", \"modification\", \"knowledge\", \"maintenance\", \"automation\", \"tools\", \"proficiency\", \"maintenance\", \"software\", \"proficiency\", \"utilization\", \"equipment\", \"inspection\", \"techniques\", \"utilization\", \"failure\", \"analysis\", \"methods\", \"utilization\", \"maintenance\", \"planning\", \"procedures\", \"utilization\", \"maintenance\", \"management\", \"skills\", \"utilization\", \"spare\", \"parts\", \"inventory\", \"management\", \"utilization\", \"maintenance\", \"documentation\", \"practices\", \"utilization\", \"root\", \"cause\", \"analysis\", \"proficiency\", \"utilization\", \"equipment\", \"troubleshooting\", \"techniques\", \"utilization\", \"maintenance\", \"audits\", \"management\", \"utilization\", \"maintenance\", \"standards\", \"adherence\", \"utilization\", \"equipment\", \"repair\", \"knowledge\", \"utilization\", \"condition\", \"monitoring\", \"techniques\", \"utilization\"\n",
        "        ],\n",
        "    \"Network Security Engineer\": [\"network\", \"security\", \"firewalls\", \"intrusion\", \"detection\", \"encryption\", \"security\", \"protocols\", \"penetration\", \"testing\", \"vulnerability\", \"assessment\", \"network\", \"monitoring\", \"security\", \"policies\", \"incident\", \"response\", \"security\", \"audits\", \"network\", \"architecture\", \"cybersecurity\", \"access\", \"control\", \"security\", \"solutions\", \"SIEM\", \"identity\", \"and\", \"access\", \"management\", \"risk\", \"assessment\", \"security\", \"compliance\", \"network\", \"segmentation\", \"security\", \"awareness\", \"firewall\", \"configurations\", \"security\", \"software\", \"network\", \"hardening\", \"threat\", \"detection\", \"security\", \"assessments\", \"security\", \"best\", \"practices\", \"network\", \"protocols\", \"security\", \"monitoring\", \"tools\", \"incident\", \"handling\", \"security\", \"incident\", \"reporting\", \"security\", \"maintenance\", \"secure\", \"communication\", \"security\", \"patches\", \"network\", \"defense\", \"security\", \"testing\", \"security\", \"documentation\", \"security\", \"implementation\", \"security\", \"evaluation\", \"security\", \"architecture\", \"firewalls\", \"configuration\", \"intrusion\", \"detection\", \"systems\", \"encryption\", \"methods\", \"security\", \"protocols\", \"implementation\", \"penetration\", \"testing\", \"techniques\", \"vulnerability\", \"assessment\", \"methods\", \"network\", \"monitoring\", \"tools\", \"utilization\", \"security\", \"policies\", \"development\", \"incident\", \"response\", \"procedures\", \"security\", \"audits\", \"management\", \"network\", \"architecture\", \"knowledge\", \"cybersecurity\", \"principles\", \"access\", \"control\", \"procedures\", \"security\", \"solutions\", \"implementation\", \"SIEM\", \"proficiency\", \"identity\", \"and\", \"access\", \"management\", \"methods\", \"risk\", \"assessment\", \"techniques\", \"security\", \"compliance\", \"procedures\", \"network\", \"segmentation\", \"strategies\", \"security\", \"awareness\", \"practices\", \"firewall\", \"configurations\", \"proficiency\", \"security\", \"software\", \"utilization\", \"network\", \"hardening\", \"techniques\", \"threat\", \"detection\", \"methods\",\"security\", \"assessments\", \"management\", \"utilization\", \"best\", \"practices\", \"network\", \"protocols\", \"knowledge\", \"monitoring\", \"tools\", \"proficiency\", \"incident\", \"handling\", \"procedures\", \"reporting\", \"methods\", \"maintenance\", \"secure\", \"communication\", \"techniques\", \"patches\", \"defense\", \"testing\", \"documentation\", \"implementation\", \"evaluation\", \"architecture\", \"firewalls\", \"configuration\", \"intrusion\", \"detection\", \"systems\", \"encryption\", \"methods\", \"implementation\", \"penetration\", \"vulnerability\", \"assessment\", \"policies\", \"development\", \"audits\", \"knowledge\", \"cybersecurity\", \"principles\", \"access\", \"control\", \"solutions\", \"SIEM\", \"identity\", \"and\", \"management\", \"risk\", \"compliance\", \"segmentation\", \"strategies\", \"awareness\", \"proficiency\", \"software\", \"hardening\", \"threat\", \"utilization\", \"utilization\", \"proficiency\"],\n",
        "    \"Security Architect\": [\"security\", \"architecture\", \"security\", \"design\", \"security\", \"solutions\", \"security\", \"frameworks\", \"cybersecurity\", \"security\", \"policies\", \"security\", \"assessment\", \"threat\", \"modeling\", \"security\", \"compliance\", \"identity\", \"and\", \"access\", \"management\", \"encryption\", \"firewalls\", \"incident\", \"response\", \"vulnerability\", \"assessment\", \"security\", \"documentation\", \"risk\", \"management\", \"security\", \"strategy\", \"security\", \"audits\", \"network\", \"security\", \"cloud\", \"security\", \"application\", \"security\", \"security\", \"standards\", \"security\", \"best\", \"practices\", \"security\", \"protocols\", \"secure\", \"coding\", \"security\", \"technologies\", \"penetration\", \"testing\", \"SIEM\", \"security\", \"governance\", \"security\", \"testing\", \"compliance\", \"frameworks\", \"security\", \"implementation\", \"security\", \"awareness\", \"security\", \"evaluation\", \"security\", \"software\", \"security\", \"communication\", \"architecture\", \"security\", \"design\", \"proficiency\", \"security\", \"solutions\", \"development\", \"security\", \"frameworks\", \"knowledge\", \"cybersecurity\", \"principles\", \"security\", \"policies\", \"development\", \"security\", \"assessment\", \"procedures\", \"threat\", \"modeling\", \"techniques\", \"security\", \"compliance\", \"procedures\", \"identity\", \"and\", \"access\", \"management\", \"knowledge\", \"encryption\", \"methods\", \"firewalls\", \"configuration\", \"incident\", \"response\", \"procedures\", \"vulnerability\", \"assessment\", \"methods\", \"security\", \"documentation\", \"practices\", \"risk\", \"management\", \"principles\", \"security\", \"strategy\", \"development\", \"security\", \"audits\", \"management\", \"network\", \"security\", \"expertise\", \"cloud\", \"security\", \"knowledge\", \"application\", \"security\", \"principles\", \"security\", \"standards\", \"adherence\", \"security\", \"best\", \"practices\", \"utilization\", \"security\", \"protocols\", \"implementation\", \"secure\", \"coding\", \"techniques\", \"security\", \"technologies\", \"knowledge\", \"penetration\", \"testing\", \"procedures\", \"SIEM\", \"proficiency\", \"security\", \"governance\", \"practices\", \"security\", \"testing\", \"techniques\", \"compliance\", \"frameworks\", \"utilization\", \"security\", \"implementation\", \"methods\", \"security\", \"awareness\", \"practices\", \"security\", \"evaluation\", \"techniques\", \"security\", \"software\", \"proficiency\", \"security\", \"communication\", \"knowledge\", \"architecture\", \"security\", \"design\", \"proficiency\", \"utilization\", \"security\", \"solutions\", \"development\", \"utilization\", \"security\", \"frameworks\", \"knowledge\", \"utilization\", \"cybersecurity\", \"principles\", \"utilization\", \"security\", \"policies\", \"development\", \"utilization\", \"security\", \"assessment\", \"procedures\", \"utilization\", \"threat\", \"modeling\", \"techniques\", \"utilization\", \"security\", \"compliance\", \"procedures\", \"utilization\", \"identity\", \"and\", \"access\", \"management\", \"knowledge\", \"utilization\", \"encryption\", \"methods\", \"utilization\", \"firewalls\", \"configuration\", \"utilization\", \"incident\", \"response\", \"procedures\", \"utilization\", \"vulnerability\", \"assessment\", \"methods\", \"utilization\", \"security\", \"documentation\", \"practices\", \"utilization\", \"risk\", \"management\", \"principles\", \"utilization\", \"security\", \"strategy\", \"development\", \"utilization\", \"security\", \"audits\", \"management\", \"utilization\", \"network\", \"security\", \"expertise\", \"utilization\", \"cloud\", \"security\", \"knowledge\", \"utilization\", \"application\", \"security\", \"principles\", \"utilization\", \"security\", \"standards\", \"adherence\", \"utilization\", \"security\", \"best\", \"practices\", \"utilization\", \"utilization\", \"security\", \"protocols\", \"implementation\", \"utilization\", \"secure\", \"coding\", \"techniques\", \"utilization\", \"security\", \"technologies\", \"knowledge\", \"utilization\", \"penetration\", \"testing\", \"procedures\", \"utilization\", \"SIEM\", \"proficiency\", \"utilization\", \"security\", \"governance\", \"practices\", \"utilization\", \"security\", \"testing\", \"techniques\", \"utilization\", \"compliance\", \"frameworks\", \"utilization\", \"utilization\", \"security\", \"implementation\", \"methods\", \"utilization\", \"security\", \"awareness\", \"practices\", \"utilization\", \"security\", \"evaluation\", \"techniques\", \"utilization\", \"security\", \"software\"],\n",
        "    \"Operations Manager\": [\"operations\", \"management\", \"team\", \"leadership\", \"workflow\", \"optimization\", \"strategic\", \"planning\", \"resource\", \"allocation\", \"project\", \"management\",\"process\", \"improvement\", \"budget\", \"management\", \"performance\", \"metrics\", \"quality\", \"control\", \"business\", \"operations\", \"staff\", \"development\", \"cross-functional\",\"collaboration\", \"problem-solving\", \"efficiency\", \"improvement\", \"communication\", \"skills\", \"operations\", \"analysis\", \"risk\", \"management\", \"supply\", \"chain\", \"management\",\"vendor\", \"relationships\", \"cost\", \"reduction\", \"operations\", \"strategy\", \"inventory\", \"management\", \"production\", \"planning\", \"logistics\", \"scheduling\", \"customer\", \"service\",\"data\", \"analysis\", \"change\", \"management\", \"continuous\", \"improvement\", \"leadership\", \"development\", \"decision-making\", \"workforce\", \"management\", \"operations\", \"research\",\"KPIs\", \"workplace\", \"safety\", \"process\", \"reengineering\", \"strategic\", \"partnerships\", \"operations\", \"software\", \"project\", \"implementation\", \"financial\", \"analysis\",\"team\", \"building\", \"operations\", \"budgeting\", \"workflow\", \"optimization\", \"techniques\", \"strategic\", \"planning\", \"proficiency\", \"resource\", \"allocation\", \"strategies\",\"project\", \"management\", \"skills\", \"process\", \"improvement\", \"methods\", \"budget\", \"management\", \"proficiency\", \"performance\", \"metrics\", \"analysis\", \"quality\", \"control\", \"practices\",\"business\", \"operations\", \"knowledge\", \"staff\", \"development\", \"techniques\", \"cross-functional\", \"collaboration\", \"skills\", \"problem-solving\", \"proficiency\", \"efficiency\", \"improvement\", \"strategies\",\"communication\", \"skills\", \"proficiency\", \"operations\", \"analysis\", \"techniques\", \"risk\", \"management\", \"practices\", \"supply\", \"chain\", \"management\", \"knowledge\", \"vendor\", \"relationships\", \"management\",\"cost\", \"reduction\", \"strategies\", \"operations\", \"strategy\", \"development\", \"inventory\", \"management\", \"proficiency\", \"production\", \"planning\", \"techniques\", \"logistics\", \"management\",\"scheduling\", \"procedures\", \"customer\", \"service\", \"knowledge\", \"data\", \"analysis\", \"methods\", \"change\", \"management\", \"techniques\", \"continuous\", \"improvement\", \"practices\",\"leadership\", \"development\", \"methods\", \"decision-making\", \"skills\", \"workforce\", \"management\", \"proficiency\", \"operations\", \"research\", \"knowledge\", \"KPIs\", \"tracking\", \"workplace\",\"safety\", \"practices\", \"process\", \"reengineering\", \"techniques\", \"strategic\", \"partnerships\", \"management\", \"operations\", \"software\", \"utilization\", \"project\", \"implementation\", \"methods\",\"financial\", \"analysis\", \"proficiency\", \"team\", \"building\", \"skills\", \"operations\", \"budgeting\", \"practices\", \"workflow\", \"optimization\", \"techniques\", \"utilization\", \"strategic\", \"planning\", \"proficiency\",\"utilization\", \"resource\", \"allocation\", \"strategies\", \"utilization\", \"project\", \"management\", \"skills\", \"utilization\", \"process\", \"improvement\", \"methods\", \"utilization\", \"budget\", \"management\",\"proficiency\", \"utilization\", \"performance\", \"metrics\", \"analysis\", \"utilization\", \"quality\", \"control\", \"practices\", \"utilization\", \"business\", \"operations\", \"knowledge\", \"utilization\",\"staff\", \"development\", \"techniques\", \"utilization\", \"cross-functional\", \"collaboration\", \"skills\", \"utilization\", \"problem-solving\", \"proficiency\", \"utilization\", \"efficiency\", \"improvement\",\"strategies\", \"utilization\", \"communication\", \"skills\", \"proficiency\", \"utilization\", \"operations\", \"analysis\", \"techniques\", \"utilization\", \"risk\", \"management\", \"practices\", \"utilization\",\"supply\", \"chain\", \"management\", \"knowledge\", \"utilization\", \"vendor\", \"relationships\", \"management\", \"utilization\", \"cost\", \"reduction\", \"strategies\", \"utilization\", \"operations\", \"strategy\",\"development\", \"utilization\", \"inventory\", \"management\", \"proficiency\", \"utilization\", \"production\", \"planning\", \"techniques\", \"utilization\", \"logistics\", \"management\", \"utilization\",\"scheduling\", \"procedures\", \"utilization\", \"customer\", \"service\", \"knowledge\", \"utilization\", \"data\", \"analysis\", \"methods\", \"utilization\", \"change\"],\n",
        "\n",
        "    \"Training and Development Manager\": [\"training\", \"and\", \"development\", \"employee\", \"learning\", \"performance\", \"improvement\", \"training\", \"programs\", \"adult\", \"learning\", \"principles\", \"training\", \"needs\", \"analysis\",\"instructional\", \"design\", \"e-learning\", \"training\", \"delivery\", \"evaluation\", \"of\", \"training\", \"effectiveness\", \"leadership\", \"development\", \"organizational\", \"development\",\"training\", \"budgeting\", \"learning\", \"management\", \"systems\", \"staff\", \"development\", \"talent\", \"development\", \"curriculum\", \"design\", \"training\", \"assessment\", \"training\",\"content\", \"creation\", \"training\", \"materials\", \"employee\", \"skills\", \"development\", \"soft\", \"skills\", \"training\", \"on-the-job\", \"training\", \"training\", \"ROI\",\"analysis\", \"e-learning\", \"platforms\", \"employee\", \"engagement\", \"training\", \"technologies\", \"assessment\", \"tools\", \"training\", \"software\", \"training\", \"documentation\",\"employee\", \"development\", \"planning\", \"performance\", \"management\", \"systems\", \"employee\", \"feedback\", \"mechanisms\", \"training\", \"and\", \"development\", \"strategies\", \"training\",\"program\", \"management\", \"adult\", \"learning\", \"principles\", \"application\", \"training\", \"needs\", \"analysis\", \"methods\", \"instructional\", \"design\", \"principles\",\"e-learning\", \"platforms\", \"utilization\", \"training\", \"delivery\", \"methods\", \"evaluation\", \"of\", \"training\", \"effectiveness\", \"techniques\", \"leadership\", \"development\",\"strategies\", \"organizational\", \"development\", \"principles\", \"training\", \"budgeting\", \"techniques\", \"learning\", \"management\", \"systems\", \"utilization\", \"staff\", \"development\",\n",
        "        \"methods\", \"talent\", \"development\", \"strategies\", \"curriculum\", \"design\", \"techniques\", \"training\", \"assessment\", \"methods\", \"training\", \"content\", \"creation\",\"proficiency\", \"training\", \"materials\", \"development\", \"employee\", \"skills\", \"development\", \"methods\", \"soft\", \"skills\", \"training\", \"techniques\", \"on-the-job\",\"training\", \"procedures\", \"training\", \"ROI\", \"analysis\", \"methods\", \"e-learning\", \"platforms\", \"utilization\", \"proficiency\", \"employee\", \"engagement\", \"strategies\", \"training\",\"technologies\", \"utilization\", \"assessment\", \"tools\", \"utilization\", \"training\", \"software\", \"proficiency\", \"training\", \"documentation\", \"management\", \"employee\",\n",
        "        \"development\", \"planning\", \"strategies\", \"performance\", \"management\", \"systems\", \"utilization\", \"employee\", \"feedback\", \"mechanisms\", \"utilization\", \"training\", \"and\",\"development\", \"strategies\", \"implementation\", \"training\", \"program\", \"management\", \"proficiency\", \"adult\", \"learning\", \"principles\", \"application\",\"proficiency\", \"training\", \"needs\", \"analysis\", \"methods\", \"proficiency\", \"instructional\", \"design\", \"principles\", \"proficiency\", \"e-learning\", \"platforms\", \"utilization\",\"proficiency\", \"training\", \"delivery\", \"methods\", \"proficiency\", \"evaluation\", \"of\", \"training\", \"effectiveness\", \"techniques\", \"proficiency\", \"leadership\", \"development\",\n",
        "        \"strategies\", \"proficiency\", \"organizational\", \"development\", \"principles\", \"proficiency\", \"training\", \"budgeting\", \"techniques\", \"proficiency\", \"learning\", \"management\",\"systems\", \"utilization\", \"proficiency\", \"staff\", \"development\", \"methods\", \"proficiency\", \"talent\", \"development\", \"strategies\", \"proficiency\", \"curriculum\", \"design\",\"techniques\", \"proficiency\", \"training\", \"assessment\", \"methods\", \"proficiency\", \"training\", \"content\", \"creation\", \"proficiency\", \"utilization\", \"training\", \"materials\",\"development\", \"utilization\", \"employee\", \"skills\", \"development\", \"methods\", \"utilization\", \"soft\", \"skills\", \"training\", \"techniques\", \"utilization\", \"on-the-job\",\n",
        "        \"training\", \"procedures\", \"utilization\", \"training\", \"ROI\", \"analysis\", \"methods\", \"utilization\", \"e-learning\", \"platforms\", \"utilization\", \"proficiency\",\"utilization\", \"employee\", \"engagement\", \"strategies\", \"utilization\", \"training\", \"technologies\", \"utilization\", \"proficiency\", \"utilization\", \"assessment\", \"tools\",\"utilization\", \"proficiency\"],\n",
        "    \"Talent Acquisition Manager\": [\"talent\", \"acquisition\", \"recruitment\", \"sourcing\", \"interviewing\", \"candidate\", \"assessment\", \"employer\", \"branding\",\"recruitment\", \"strategies\", \"job\", \"advertising\", \"applicant\", \"tracking\", \"systems\", \"interview\", \"techniques\", \"onboarding\",\"recruitment\", \"metrics\", \"diversity\", \"hiring\", \"staffing\", \"agencies\", \"talent\", \"pipelines\", \"recruitment\", \"compliance\", \"HR\", \"technology\",\"offer\", \"negotiation\", \"candidate\", \"experience\", \"talent\", \"acquisition\", \"software\", \"recruitment\", \"analytics\", \"interviewing\", \"skills\",\"employer\", \"branding\", \"strategies\", \"recruitment\", \"strategies\", \"implementation\", \"job\", \"advertising\", \"techniques\", \"applicant\", \"tracking\", \"systems\", \"utilization\",\"interview\", \"techniques\", \"proficiency\", \"onboarding\", \"processes\", \"recruitment\", \"metrics\", \"analysis\", \"diversity\", \"hiring\", \"strategies\", \"staffing\", \"agencies\", \"collaboration\",\"talent\", \"pipelines\", \"development\", \"recruitment\", \"compliance\", \"adherence\", \"HR\", \"technology\", \"utilization\", \"offer\", \"negotiation\", \"skills\", \"candidate\", \"experience\", \"enhancement\",\"talent\", \"acquisition\", \"software\", \"proficiency\", \"recruitment\", \"analytics\", \"utilization\", \"interviewing\", \"skills\", \"proficiency\", \"employer\", \"branding\", \"strategies\", \"implementation\",\"recruitment\", \"strategies\", \"implementation\", \"proficiency\", \"job\", \"advertising\", \"techniques\", \"proficiency\", \"applicant\", \"tracking\", \"systems\", \"utilization\", \"proficiency\",\"interview\", \"techniques\", \"proficiency\", \"utilization\", \"onboarding\", \"processes\", \"utilization\", \"recruitment\", \"metrics\", \"analysis\", \"proficiency\", \"diversity\", \"hiring\", \"strategies\", \"utilization\",\"staffing\", \"agencies\", \"collaboration\", \"proficiency\", \"talent\", \"pipelines\", \"development\", \"utilization\", \"recruitment\", \"compliance\", \"adherence\", \"proficiency\", \"HR\", \"technology\", \"utilization\", \"proficiency\",\"offer\", \"negotiation\", \"skills\", \"utilization\", \"candidate\", \"experience\", \"enhancement\", \"utilization\", \"talent\", \"acquisition\", \"software\", \"proficiency\", \"utilization\", \"recruitment\", \"analytics\", \"utilization\",\"interviewing\", \"skills\", \"proficiency\", \"utilization\"\n",
        "        ],\n",
        "    \"Control Systems Engineer\": [\"control\", \"systems\", \"automation\", \"PLC\", \"programming\", \"SCADA\", \"systems\", \"process\", \"control\", \"instrumentation\", \"system\", \"integration\", \"control\", \"system\", \"design\", \"control\", \"algorithms\", \"PID\", \"control\", \"HMI\", \"design\", \"industrial\", \"networks\", \"sensors\", \"actuators\", \"control\", \"system\", \"troubleshooting\", \"PLC\", \"programming\", \"languages\", \"SCADA\", \"systems\", \"configuration\", \"process\", \"control\", \"techniques\", \"instrumentation\", \"principles\", \"system\", \"integration\", \"methods\", \"control\", \"system\", \"design\", \"principles\", \"control\", \"algorithms\", \"development\", \"PID\", \"control\", \"principles\", \"HMI\", \"design\", \"proficiency\", \"industrial\", \"networks\", \"management\", \"sensors\", \"utilization\", \"actuators\", \"operation\", \"control\", \"system\", \"troubleshooting\", \"methods\", \"PLC\", \"programming\", \"languages\", \"proficiency\", \"SCADA\", \"systems\", \"configuration\", \"proficiency\", \"process\", \"control\", \"techniques\", \"proficiency\", \"instrumentation\", \"principles\", \"utilization\", \"system\", \"integration\", \"methods\", \"proficiency\", \"control\", \"system\", \"design\", \"principles\", \"utilization\", \"control\", \"algorithms\", \"development\", \"proficiency\", \"PID\", \"control\", \"principles\", \"utilization\", \"HMI\", \"design\", \"proficiency\", \"utilization\", \"industrial\", \"networks\", \"management\", \"proficiency\", \"sensors\", \"utilization\", \"proficiency\", \"actuators\", \"operation\", \"proficiency\", \"control\", \"system\", \"troubleshooting\", \"methods\", \"utilization\"\n",
        "        ],\n",
        "    \"Instrumentation Engineer\": [\n",
        "        \"instrumentation\", \"sensors\", \"measurement\", \"devices\", \"calibration\", \"control\", \"systems\", \"data\", \"acquisition\", \"signal\", \"processing\", \"instrumentation\", \"design\", \"sensor\", \"selection\", \"measurement\", \"accuracy\", \"industrial\", \"automation\", \"PLC\", \"programming\", \"HMI\", \"interface\", \"instrumentation\", \"troubleshooting\", \"sensors\", \"calibration\", \"data\", \"analysis\", \"sensor\", \"technologies\", \"measurement\", \"principles\", \"industrial\", \"control\", \"systems\", \"PLC\", \"programming\", \"proficiency\", \"HMI\", \"interface\", \"design\", \"instrumentation\", \"troubleshooting\", \"methods\", \"sensors\", \"calibration\", \"techniques\", \"data\", \"analysis\", \"proficiency\", \"sensor\", \"technologies\", \"utilization\", \"measurement\", \"principles\", \"application\", \"industrial\", \"control\", \"systems\", \"utilization\"\n",
        "        ],\n",
        "    \"Embedded Systems Engineer\": [\n",
        "       \"embedded\", \"systems\", \"microcontrollers\", \"firmware\", \"development\", \"real-time\", \"operating\", \"systems\", \"embedded\", \"C/C++\", \"programming\", \"electronics\", \"schematic\", \"design\", \"PCB\", \"layout\", \"peripheral\", \"interfacing\", \"debugging\", \"sensor\", \"integration\", \"IoT\", \"devices\", \"RTOS\", \"embedded\", \"software\", \"low-level\", \"programming\", \"hardware/software\", \"integration\", \"microcontroller\", \"firmware\", \"debugging\", \"electronics\", \"knowledge\", \"schematic\", \"design\", \"proficiency\", \"PCB\", \"layout\", \"design\", \"peripheral\", \"interfacing\", \"methods\", \"debugging\", \"techniques\", \"sensor\", \"integration\", \"proficiency\", \"IoT\", \"devices\", \"development\", \"RTOS\", \"development\", \"methods\", \"embedded\", \"software\", \"design\", \"proficiency\", \"low-level\", \"programming\", \"skills\", \"hardware/software\", \"integration\", \"proficiency\", \"microcontroller\", \"programming\", \"expertise\", \"firmware\", \"debugging\", \"techniques\", \"electronics\", \"knowledge\", \"proficiency\", \"schematic\", \"design\", \"proficiency\", \"utilization\", \"PCB\", \"layout\", \"design\", \"utilization\", \"peripheral\", \"interfacing\", \"methods\", \"utilization\", \"debugging\", \"techniques\", \"utilization\", \"sensor\", \"integration\", \"proficiency\", \"utilization\", \"IoT\", \"devices\", \"development\", \"utilization\", \"RTOS\", \"development\", \"methods\", \"utilization\", \"embedded\", \"software\", \"design\", \"proficiency\", \"utilization\", \"low-level\", \"programming\", \"skills\", \"utilization\", \"hardware/software\", \"integration\", \"proficiency\", \"utilization\", \"microcontroller\", \"programming\", \"expertise\", \"utilization\", \"firmware\", \"debugging\", \"techniques\", \"utilization\"\n",
        "        ],\n",
        "    \"Telecom Project Manager\": [\"telecom\", \"project\", \"management\", \"telecommunications\", \"network\", \"infrastructure\", \"telecom\", \"projects\", \"budgeting\", \"stakeholder\", \"communication\", \"vendor\", \"management\", \"project\", \"planning\", \"resource\", \"allocation\", \"risk\", \"management\", \"quality\", \"assurance\", \"telecom\", \"technologies\", \"telecom\", \"regulations\", \"telecom\", \"network\", \"design\", \"fiber\", \"optics\", \"wireless\", \"networks\", \"VoIP\", \"telecom\", \"software\", \"telecom\", \"project\", \"lifecycle\", \"telecom\", \"project\", \"documentation\", \"network\", \"optimization\", \"telecom\", \"project\", \"delivery\", \"telecom\", \"project\", \"budgeting\", \"stakeholder\", \"communication\", \"strategies\", \"vendor\", \"management\", \"techniques\", \"project\", \"planning\", \"methods\", \"resource\", \"allocation\", \"strategies\", \"risk\", \"management\", \"techniques\", \"quality\", \"assurance\", \"procedures\", \"telecom\", \"technologies\", \"utilization\", \"telecom\", \"regulations\", \"compliance\", \"telecom\", \"network\", \"design\", \"proficiency\", \"fiber\", \"optics\", \"knowledge\", \"wireless\", \"networks\", \"management\", \"VoIP\", \"implementation\", \"telecom\", \"software\", \"utilization\", \"telecom\", \"project\", \"lifecycle\", \"management\", \"telecom\", \"project\", \"documentation\", \"management\", \"network\", \"optimization\", \"strategies\", \"telecom\", \"project\", \"delivery\", \"methods\", \"telecom\", \"project\", \"budgeting\", \"proficiency\", \"stakeholder\", \"communication\", \"strategies\", \"utilization\", \"vendor\", \"management\", \"techniques\", \"utilization\", \"project\", \"planning\", \"methods\", \"utilization\", \"resource\", \"allocation\", \"strategies\", \"utilization\", \"risk\", \"management\", \"techniques\", \"utilization\", \"quality\", \"assurance\", \"procedures\", \"utilization\", \"telecom\", \"technologies\", \"utilization\", \"proficiency\", \"telecom\", \"regulations\", \"compliance\", \"proficiency\", \"telecom\", \"network\", \"design\", \"proficiency\", \"utilization\", \"fiber\", \"optics\", \"knowledge\", \"proficiency\", \"wireless\", \"networks\", \"management\", \"proficiency\", \"VoIP\", \"implementation\", \"proficiency\", \"telecom\", \"software\", \"utilization\", \"proficiency\", \"telecom\", \"project\", \"lifecycle\", \"management\", \"proficiency\", \"telecom\", \"project\", \"documentation\", \"management\", \"proficiency\", \"network\", \"optimization\", \"strategies\", \"utilization\", \"telecom\", \"project\", \"delivery\", \"methods\", \"utilization\"]\n",
        "}"
      ]
    },
    {
      "cell_type": "code",
      "execution_count": null,
      "metadata": {
        "colab": {
          "base_uri": "https://localhost:8080/"
        },
        "id": "E86v1O2KZyt2",
        "outputId": "61938d36-fb2c-4307-d105-2e21bce2b3a4"
      },
      "outputs": [
        {
          "name": "stdout",
          "output_type": "stream",
          "text": [
            "Relevancy: 0.8709578388786349\n"
          ]
        }
      ],
      "source": [
        "# comparison for relevency\n",
        "# matching job role with skills\n",
        "\n",
        "\n",
        "'''x=job_keywords[selected_job_role]\n",
        "y=section_keywords[\"Skills\"]\n",
        "intersection_cardinality = len(set.intersection(*[set(x), set(y)]))\n",
        "union_cardinality = len(set.union(*[set(x), set(y)]))\n",
        "print(intersection_cardinality/float(union_cardinality))\n",
        "print(job_keywords[selected_job_role])'''\n",
        "\n",
        "keywords_str3 = \" \".join(job_keywords[selected_job_role])\n",
        "keywords_str4 = \" \".join(section_keywords[\"Skills\"])\n",
        "# Create a CountVectorizer\n",
        "vectorizer = CountVectorizer().fit_transform([keywords_str3,keywords_str4])\n",
        "# Calculate the cosine similarity\n",
        "cosine_sim = cosine_similarity(vectorizer)\n",
        "# The cosine similarity score is in cosine_sim[0][1]\n",
        "similarity_score_relevancy = cosine_sim[0][1]\n",
        "\n",
        "print(f\"Relevancy: {similarity_score_relevancy}\")\n",
        "scaled_similarity_relevancy= (similarity_score_relevancy + 1) / 2  # Scales to [0, 1]"
      ]
    },
    {
      "cell_type": "code",
      "execution_count": null,
      "metadata": {
        "colab": {
          "base_uri": "https://localhost:8080/",
          "height": 575,
          "referenced_widgets": [
            "ddb9175d87fc41ed9dc7255107545d24",
            "b4568de99e08432e9d7abec3b2196ea7",
            "150a9f2d22974d77beb2dc269919422b",
            "2956b8fc4c6b44daad70b9cf6b557dbb",
            "f057f06f7e3a40a3b94929f2dde8ddad",
            "1bd16d0c0dbf4f8b95224c861eb58b54",
            "78883dfc902e4c1890a2c5574cd246d9",
            "71a22a19627b4fbc972e58118b532ca4",
            "626b6dd4cab242c6854a1a8eaa8b8317",
            "281225bda8394ce5bb68936a6807f5ab",
            "5058d7bf54c944d0b49cafff6fdd45f8",
            "66b19fd05119405e8c86f41335a9fa30",
            "2a39f93c8862409583e1f6eb39d3d9c5",
            "1285b990e6bb460a9e087cc47de2e2ce",
            "becb516186c94ecd8568cd99bcbba84f",
            "a4b1c9cdc7c046b0a7e092337e17d65d",
            "e56c21b49ae343cba6f821cf451df7fd",
            "e7924bae6c7948c083b5b196fe33311b",
            "d0a4aa118c1747c7b5352edac871525a",
            "fc33f70d8f704eb29f73fd6517b36b14",
            "2014e0bfba0347d79be09d652c3bb19d",
            "c4e724fa58b046b386ea32b3bbb29fbf",
            "2ad17bab0ee149f5816a657d6c6d30b9",
            "873eea144a4144fb8bc282819d2bc1d7",
            "066653697f8e4dce99b5739166a6596a",
            "3fabce2372804ab88b680b11194c5ab6",
            "0aef4458260640df922b49f37cb2f6eb",
            "b548dd5c398d403c9e1f2c4b95983e45",
            "353debb5fc6a4c4fb782ba0282a787a5",
            "4b98c94d30594664ad17edddddfce4d9"
          ]
        },
        "id": "wVXfyLjO-GkF",
        "outputId": "0aee4d45-aff8-4981-8e50-9aaabd51d98a"
      },
      "outputs": [
        {
          "name": "stdout",
          "output_type": "stream",
          "text": [
            "Questions for the job role of Data Scientist\n",
            "Q: Can you explain the key steps involved in the data analysis process?\n",
            "\n",
            "Please provide your answer:\n"
          ]
        },
        {
          "data": {
            "application/vnd.jupyter.widget-view+json": {
              "model_id": "ddb9175d87fc41ed9dc7255107545d24",
              "version_major": 2,
              "version_minor": 0
            },
            "text/plain": [
              "Text(value='', description='Your Answer:')"
            ]
          },
          "metadata": {},
          "output_type": "display_data"
        },
        {
          "data": {
            "application/vnd.jupyter.widget-view+json": {
              "model_id": "2956b8fc4c6b44daad70b9cf6b557dbb",
              "version_major": 2,
              "version_minor": 0
            },
            "text/plain": [
              "Button(description='Next', style=ButtonStyle())"
            ]
          },
          "metadata": {},
          "output_type": "display_data"
        },
        {
          "name": "stdout",
          "output_type": "stream",
          "text": [
            "Score for Question: -0.34/10\n",
            "Your Answer: dont know\n",
            "\n",
            "Q: How do you assess the importance of different variables in a machine learning model?\n",
            "\n",
            "Please provide your answer:\n"
          ]
        },
        {
          "data": {
            "application/vnd.jupyter.widget-view+json": {
              "model_id": "78883dfc902e4c1890a2c5574cd246d9",
              "version_major": 2,
              "version_minor": 0
            },
            "text/plain": [
              "Text(value='', description='Your Answer:')"
            ]
          },
          "metadata": {},
          "output_type": "display_data"
        },
        {
          "data": {
            "application/vnd.jupyter.widget-view+json": {
              "model_id": "281225bda8394ce5bb68936a6807f5ab",
              "version_major": 2,
              "version_minor": 0
            },
            "text/plain": [
              "Button(description='Next', style=ButtonStyle())"
            ]
          },
          "metadata": {},
          "output_type": "display_data"
        },
        {
          "name": "stdout",
          "output_type": "stream",
          "text": [
            "Score for Question: 1.1/10\n",
            "Your Answer: nagpur\n",
            "\n",
            "Q: Explain the bias-variance trade-off in machine learning.\n",
            "\n",
            "Please provide your answer:\n"
          ]
        },
        {
          "data": {
            "application/vnd.jupyter.widget-view+json": {
              "model_id": "2a39f93c8862409583e1f6eb39d3d9c5",
              "version_major": 2,
              "version_minor": 0
            },
            "text/plain": [
              "Text(value='', description='Your Answer:')"
            ]
          },
          "metadata": {},
          "output_type": "display_data"
        },
        {
          "data": {
            "application/vnd.jupyter.widget-view+json": {
              "model_id": "a4b1c9cdc7c046b0a7e092337e17d65d",
              "version_major": 2,
              "version_minor": 0
            },
            "text/plain": [
              "Button(description='Next', style=ButtonStyle())"
            ]
          },
          "metadata": {},
          "output_type": "display_data"
        },
        {
          "name": "stdout",
          "output_type": "stream",
          "text": [
            "Score for Question: 7.96/10\n",
            "Your Answer: the models do show bias based on the training dataset and can be overfitted and underfitted at times\n",
            "\n",
            "Q: What is cross-validation, and why is it important in machine learning?\n",
            "\n",
            "Please provide your answer:\n"
          ]
        },
        {
          "data": {
            "application/vnd.jupyter.widget-view+json": {
              "model_id": "d0a4aa118c1747c7b5352edac871525a",
              "version_major": 2,
              "version_minor": 0
            },
            "text/plain": [
              "Text(value='', description='Your Answer:')"
            ]
          },
          "metadata": {},
          "output_type": "display_data"
        },
        {
          "data": {
            "application/vnd.jupyter.widget-view+json": {
              "model_id": "c4e724fa58b046b386ea32b3bbb29fbf",
              "version_major": 2,
              "version_minor": 0
            },
            "text/plain": [
              "Button(description='Next', style=ButtonStyle())"
            ]
          },
          "metadata": {},
          "output_type": "display_data"
        },
        {
          "name": "stdout",
          "output_type": "stream",
          "text": [
            "Score for Question: 0.0/10\n",
            "Your Answer: odf\n",
            "\n",
            "Q: Explain the difference between batch gradient descent and stochastic gradient descent in training machine learning models.\n",
            "\n",
            "Please provide your answer:\n"
          ]
        },
        {
          "data": {
            "application/vnd.jupyter.widget-view+json": {
              "model_id": "066653697f8e4dce99b5739166a6596a",
              "version_major": 2,
              "version_minor": 0
            },
            "text/plain": [
              "Text(value='', description='Your Answer:')"
            ]
          },
          "metadata": {},
          "output_type": "display_data"
        },
        {
          "data": {
            "application/vnd.jupyter.widget-view+json": {
              "model_id": "b548dd5c398d403c9e1f2c4b95983e45",
              "version_major": 2,
              "version_minor": 0
            },
            "text/plain": [
              "Button(description='Next', style=ButtonStyle())"
            ]
          },
          "metadata": {},
          "output_type": "display_data"
        },
        {
          "name": "stdout",
          "output_type": "stream",
          "text": [
            "Score for Question: -0.02/10\n",
            "Your Answer: jv\n",
            "\n"
          ]
        }
      ],
      "source": [
        "# Load the dataset\n",
        "df = pd.read_csv('/content/Ques Answer dataset - Sheet1 (2).csv')\n",
        "\n",
        "chosen_job_role = selected_job_role\n",
        "\n",
        "print(\"Questions for the job role of\",chosen_job_role)\n",
        "\n",
        "class QuestionAsker:\n",
        "    def __init__(self,chosen_job_role):\n",
        "        self.user_responses = []\n",
        "        self.question_index = 0\n",
        "        self.total_score = 0\n",
        "        self.chosen_job_role = chosen_job_role\n",
        "        self.nlp = spacy.load('en_core_web_md')\n",
        "        self.question_answer_score = None  # Initialize the score variable\n",
        "\n",
        "    def map_similarity_to_score(self, similarity):\n",
        "        return round(similarity * 10, 2)\n",
        "\n",
        "    def get_unique_questions(self, job_role):\n",
        "        questions = df[df['Job Role'] == job_role]['Question'].unique()\n",
        "        return random.sample(list(questions), min(len(questions), 5))  # Asking only 5 questions\n",
        "\n",
        "    def display_next_question(self, b):\n",
        "        if self.question_index < len(self.sampled_questions):\n",
        "            question = self.sampled_questions[self.question_index]\n",
        "            answer = df[(df['Question'] == question) & (df['Job Role'] == self.chosen_job_role)]['Answer'].iloc[0]\n",
        "\n",
        "            print(f\"Q: {question}\\n\")\n",
        "            print(\"Please provide your answer:\")\n",
        "\n",
        "            user_response = widgets.Text(\n",
        "                value=\"\",\n",
        "                description=\"Your Answer:\",\n",
        "            )\n",
        "            display(user_response)\n",
        "\n",
        "            next_button = widgets.Button(description=\"Next\")\n",
        "            display(next_button)\n",
        "\n",
        "            def handle_next_button_click(b):\n",
        "                user_answer = user_response.value\n",
        "                self.user_responses.append(user_answer)\n",
        "\n",
        "                doc1 = self.nlp(user_answer)\n",
        "                doc2 = self.nlp(answer)\n",
        "                similarity = cosine_similarity([doc1.vector], [doc2.vector])[0][0]\n",
        "                score = self.map_similarity_to_score(similarity)\n",
        "                self.total_score += score\n",
        "                print(f\"Score for Question: {score}/10\")\n",
        "                print(f\"Your Answer: {user_answer}\\n\")\n",
        "\n",
        "                user_response.close()\n",
        "                next_button.close()\n",
        "                self.question_index += 1\n",
        "                self.display_next_question(None)\n",
        "\n",
        "            next_button.on_click(handle_next_button_click)\n",
        "        else:\n",
        "            average_score_per_question = self.total_score / len(self.sampled_questions)\n",
        "            total_average_score_out_of_50 = round((average_score_per_question / 10) * 50, 2)  # Total score out of 50\n",
        "\n",
        "            # Store the total average score in the 'question-answer-score' variable\n",
        "            self.question_answer_score = total_average_score_out_of_50\n",
        "            # print(f\"Total Average Score Out of 50: {total_average_score_out_of_50}/50\")\n",
        "\n",
        "question_asker = QuestionAsker(chosen_job_role)\n",
        "\n",
        "question_asker.sampled_questions = question_asker.get_unique_questions(question_asker.chosen_job_role)\n",
        "question_asker.display_next_question(None)"
      ]
    },
    {
      "cell_type": "code",
      "execution_count": null,
      "metadata": {
        "colab": {
          "base_uri": "https://localhost:8080/"
        },
        "id": "3QRgUjyOGDdK",
        "outputId": "db43719c-2dff-49a2-a218-916d5c847783"
      },
      "outputs": [
        {
          "name": "stdout",
          "output_type": "stream",
          "text": [
            "Total Score Out of 50: 8.7\n"
          ]
        }
      ],
      "source": [
        "# Print the total average score from the QuestionAsker\n",
        "que_total_score = question_asker.question_answer_score\n",
        "print(f\"Total Score Out of 50:\", que_total_score)"
      ]
    },
    {
      "cell_type": "code",
      "execution_count": null,
      "metadata": {
        "colab": {
          "base_uri": "https://localhost:8080/"
        },
        "id": "t5wYoePBTM1H",
        "outputId": "8bae7d6d-f276-4abb-a2a2-24b89938ff75"
      },
      "outputs": [
        {
          "name": "stdout",
          "output_type": "stream",
          "text": [
            "57.83248400090762\n"
          ]
        }
      ],
      "source": [
        "#average total score percentile\n",
        "a=scaled_similarity_relevancy*40\n",
        "b=scaled_similarity_credibility*30\n",
        "c=que_total_score*30/50\n",
        "print(a+b+c)"
      ]
    },
    {
      "cell_type": "code",
      "execution_count": null,
      "metadata": {
        "colab": {
          "base_uri": "https://localhost:8080/"
        },
        "id": "nPMVX8gYAn9m",
        "outputId": "1f14340c-be8f-46b1-faff-4f4528f887d3"
      },
      "outputs": [
        {
          "name": "stdout",
          "output_type": "stream",
          "text": [
            "Ensure that the skills you list in your resume align closely with the projects you've worked on.\n",
            "Good job!! Your resume looks relevant enough with the Job Role you are applying for!!\n",
            "he answer is completely inadequate, providing no relevant information about skills and technical specifications. It is incoherent and entirely misses the mark in addressing the question.\n"
          ]
        }
      ],
      "source": [
        "#feedback\n",
        "#for relevency score\n",
        "c = similarity_score_credibility\n",
        "if c<=0.1:\n",
        "  feedback_c = \"Ensure that the skills you list in your resume align closely with the projects you've worked on.\"\n",
        "elif 0.1<c<=0.2:\n",
        "  feedback_c= \" Be more descriptive about the projects you've undertaken. Elaborate on the role you played and the outcomes achieved. \"\n",
        "elif 0.2<c<=0.3:\n",
        "  feedback_c= \"Tailor your skills section to emphasize those that directly relate to your projects.\"\n",
        "elif 0.3<c<=0.4:\n",
        "  feedback_c= \"In your project descriptions, use action verbs to clearly indicate the skills you utilized.\"\n",
        "elif 0.4<c<=0.5:\n",
        "  feedback_c= \"Even if your projects aren't an exact match for your desired job, emphasize transferable skills.\"\n",
        "elif 0.5<c<=0.6:\n",
        "  feedback_c= \"Don't use a one-size-fits-all approach. Tailor your resume for each job application, emphasizing the skills and projects that are most relevant to the specific role.\"\n",
        "elif c>0.6:\n",
        "  feedback_c= \"Good job!! Your resume looks creditable enough!\"\n",
        "\n",
        "r= similarity_score_relevancy\n",
        "if r<=0.1:\n",
        "  feedback_r = \"Ensure that the skills listed in your resume closely match the skills required for the job role.\"\n",
        "elif 0.1<r<=0.2:\n",
        "  feedback_r= \" Prioritize and emphasize the skills that directly align with the job description.\"\n",
        "elif 0.2<r<=0.3:\n",
        "  feedback_r= \" Incorporate keywords from the job description into your resume. This can improve your chances of passing through automated applicant tracking systems (ATS).\"\n",
        "elif 0.3<r<=0.4:\n",
        "  feedback_r= \" If there are gaps between the skills you possess and those required for the job, consider upskilling or obtaining relevant certifications to bridge the gap.\"\n",
        "elif 0.4<r<=0.5:\n",
        "  feedback_r= \" Highlight your ability to learn new skills quickly.\"\n",
        "elif 0.5<r<=0.6:\n",
        "  feedback_r= \"Customizing your resume to match the skills required for the job role is crucial in increasing your chances of being considered for the position.\"\n",
        "elif r>0.6:\n",
        "  feedback_r= \"Good job!! Your resume looks relevant enough with the Job Role you are applying for!!\"\n",
        "\n",
        "q=que_total_score\n",
        "if q<=10:\n",
        "  feedback_q = \"he answer is completely inadequate, providing no relevant information about skills and technical specifications. It is incoherent and entirely misses the mark in addressing the question.\"\n",
        "elif 10<q<=15:\n",
        "  feedback_q= \" The answer is very weak, offering almost no relevant information about skills and technical specifications. It's confusing and lacks substance, requiring a substantial overhaul.  \"\n",
        "elif 15<q<=20:\n",
        "  feedback_q= \" The answer is weak, providing minimal and vague information about skills and technical specifications. It lacks clarity and specific examples, indicating a significant need for improvement.\"\n",
        "elif 20<q<=25:\n",
        "  feedback_q= \" The answer is subpar, offering limited and basic information about skills and technical specifications. It's somewhat relevant but requires significant improvement to be competitive.\"\n",
        "elif 25<q<=30:\n",
        "  feedback_q= \" The answer is neither impressive nor underwhelming. It adequately addresses the question and includes basic information about skills and technical specifications but lacks depth or specific examples.\"\n",
        "elif 30<r<=35:\n",
        "  feedback_q= \"The answer is above average, adequately addressing the question and highlighting relevant skills and technical specifications. It's clear and concise but could benefit from more depth or specific examples.\"\n",
        "elif q>35:\n",
        "  feedback_q= \"The answer is well-structured, addressing most relevant skills and technical specifications with a good level of understanding. It includes specific examples but may have minor areas for improvement.!\"\n",
        "\n",
        "print(feedback_c)\n",
        "print(feedback_r)\n",
        "print(feedback_q)\n"
      ]
    }
  ],
  "metadata": {
    "colab": {
      "provenance": []
    },
    "kernelspec": {
      "display_name": "Python 3",
      "name": "python3"
    },
    "language_info": {
      "name": "python"
    },
    "widgets": {
      "application/vnd.jupyter.widget-state+json": {
        "066653697f8e4dce99b5739166a6596a": {
          "model_module": "@jupyter-widgets/controls",
          "model_module_version": "1.5.0",
          "model_name": "TextModel",
          "state": {
            "_dom_classes": [],
            "_model_module": "@jupyter-widgets/controls",
            "_model_module_version": "1.5.0",
            "_model_name": "TextModel",
            "_view_count": null,
            "_view_module": "@jupyter-widgets/controls",
            "_view_module_version": "1.5.0",
            "_view_name": "TextView",
            "continuous_update": true,
            "description": "Your Answer:",
            "description_tooltip": null,
            "disabled": false,
            "layout": "IPY_MODEL_3fabce2372804ab88b680b11194c5ab6",
            "placeholder": "​",
            "style": "IPY_MODEL_0aef4458260640df922b49f37cb2f6eb",
            "value": "jv"
          }
        },
        "0aef4458260640df922b49f37cb2f6eb": {
          "model_module": "@jupyter-widgets/controls",
          "model_module_version": "1.5.0",
          "model_name": "DescriptionStyleModel",
          "state": {
            "_model_module": "@jupyter-widgets/controls",
            "_model_module_version": "1.5.0",
            "_model_name": "DescriptionStyleModel",
            "_view_count": null,
            "_view_module": "@jupyter-widgets/base",
            "_view_module_version": "1.2.0",
            "_view_name": "StyleView",
            "description_width": ""
          }
        },
        "1285b990e6bb460a9e087cc47de2e2ce": {
          "model_module": "@jupyter-widgets/base",
          "model_module_version": "1.2.0",
          "model_name": "LayoutModel",
          "state": {
            "_model_module": "@jupyter-widgets/base",
            "_model_module_version": "1.2.0",
            "_model_name": "LayoutModel",
            "_view_count": null,
            "_view_module": "@jupyter-widgets/base",
            "_view_module_version": "1.2.0",
            "_view_name": "LayoutView",
            "align_content": null,
            "align_items": null,
            "align_self": null,
            "border": null,
            "bottom": null,
            "display": null,
            "flex": null,
            "flex_flow": null,
            "grid_area": null,
            "grid_auto_columns": null,
            "grid_auto_flow": null,
            "grid_auto_rows": null,
            "grid_column": null,
            "grid_gap": null,
            "grid_row": null,
            "grid_template_areas": null,
            "grid_template_columns": null,
            "grid_template_rows": null,
            "height": null,
            "justify_content": null,
            "justify_items": null,
            "left": null,
            "margin": null,
            "max_height": null,
            "max_width": null,
            "min_height": null,
            "min_width": null,
            "object_fit": null,
            "object_position": null,
            "order": null,
            "overflow": null,
            "overflow_x": null,
            "overflow_y": null,
            "padding": null,
            "right": null,
            "top": null,
            "visibility": null,
            "width": null
          }
        },
        "150a9f2d22974d77beb2dc269919422b": {
          "model_module": "@jupyter-widgets/controls",
          "model_module_version": "1.5.0",
          "model_name": "DescriptionStyleModel",
          "state": {
            "_model_module": "@jupyter-widgets/controls",
            "_model_module_version": "1.5.0",
            "_model_name": "DescriptionStyleModel",
            "_view_count": null,
            "_view_module": "@jupyter-widgets/base",
            "_view_module_version": "1.2.0",
            "_view_name": "StyleView",
            "description_width": ""
          }
        },
        "1bd16d0c0dbf4f8b95224c861eb58b54": {
          "model_module": "@jupyter-widgets/controls",
          "model_module_version": "1.5.0",
          "model_name": "ButtonStyleModel",
          "state": {
            "_model_module": "@jupyter-widgets/controls",
            "_model_module_version": "1.5.0",
            "_model_name": "ButtonStyleModel",
            "_view_count": null,
            "_view_module": "@jupyter-widgets/base",
            "_view_module_version": "1.2.0",
            "_view_name": "StyleView",
            "button_color": null,
            "font_weight": ""
          }
        },
        "2014e0bfba0347d79be09d652c3bb19d": {
          "model_module": "@jupyter-widgets/controls",
          "model_module_version": "1.5.0",
          "model_name": "DescriptionStyleModel",
          "state": {
            "_model_module": "@jupyter-widgets/controls",
            "_model_module_version": "1.5.0",
            "_model_name": "DescriptionStyleModel",
            "_view_count": null,
            "_view_module": "@jupyter-widgets/base",
            "_view_module_version": "1.2.0",
            "_view_name": "StyleView",
            "description_width": ""
          }
        },
        "281225bda8394ce5bb68936a6807f5ab": {
          "model_module": "@jupyter-widgets/controls",
          "model_module_version": "1.5.0",
          "model_name": "ButtonModel",
          "state": {
            "_dom_classes": [],
            "_model_module": "@jupyter-widgets/controls",
            "_model_module_version": "1.5.0",
            "_model_name": "ButtonModel",
            "_view_count": null,
            "_view_module": "@jupyter-widgets/controls",
            "_view_module_version": "1.5.0",
            "_view_name": "ButtonView",
            "button_style": "",
            "description": "Next",
            "disabled": false,
            "icon": "",
            "layout": "IPY_MODEL_5058d7bf54c944d0b49cafff6fdd45f8",
            "style": "IPY_MODEL_66b19fd05119405e8c86f41335a9fa30",
            "tooltip": ""
          }
        },
        "2956b8fc4c6b44daad70b9cf6b557dbb": {
          "model_module": "@jupyter-widgets/controls",
          "model_module_version": "1.5.0",
          "model_name": "ButtonModel",
          "state": {
            "_dom_classes": [],
            "_model_module": "@jupyter-widgets/controls",
            "_model_module_version": "1.5.0",
            "_model_name": "ButtonModel",
            "_view_count": null,
            "_view_module": "@jupyter-widgets/controls",
            "_view_module_version": "1.5.0",
            "_view_name": "ButtonView",
            "button_style": "",
            "description": "Next",
            "disabled": false,
            "icon": "",
            "layout": "IPY_MODEL_f057f06f7e3a40a3b94929f2dde8ddad",
            "style": "IPY_MODEL_1bd16d0c0dbf4f8b95224c861eb58b54",
            "tooltip": ""
          }
        },
        "2a39f93c8862409583e1f6eb39d3d9c5": {
          "model_module": "@jupyter-widgets/controls",
          "model_module_version": "1.5.0",
          "model_name": "TextModel",
          "state": {
            "_dom_classes": [],
            "_model_module": "@jupyter-widgets/controls",
            "_model_module_version": "1.5.0",
            "_model_name": "TextModel",
            "_view_count": null,
            "_view_module": "@jupyter-widgets/controls",
            "_view_module_version": "1.5.0",
            "_view_name": "TextView",
            "continuous_update": true,
            "description": "Your Answer:",
            "description_tooltip": null,
            "disabled": false,
            "layout": "IPY_MODEL_1285b990e6bb460a9e087cc47de2e2ce",
            "placeholder": "​",
            "style": "IPY_MODEL_becb516186c94ecd8568cd99bcbba84f",
            "value": "the models do show bias based on the training dataset and can be overfitted and underfitted at times"
          }
        },
        "2ad17bab0ee149f5816a657d6c6d30b9": {
          "model_module": "@jupyter-widgets/base",
          "model_module_version": "1.2.0",
          "model_name": "LayoutModel",
          "state": {
            "_model_module": "@jupyter-widgets/base",
            "_model_module_version": "1.2.0",
            "_model_name": "LayoutModel",
            "_view_count": null,
            "_view_module": "@jupyter-widgets/base",
            "_view_module_version": "1.2.0",
            "_view_name": "LayoutView",
            "align_content": null,
            "align_items": null,
            "align_self": null,
            "border": null,
            "bottom": null,
            "display": null,
            "flex": null,
            "flex_flow": null,
            "grid_area": null,
            "grid_auto_columns": null,
            "grid_auto_flow": null,
            "grid_auto_rows": null,
            "grid_column": null,
            "grid_gap": null,
            "grid_row": null,
            "grid_template_areas": null,
            "grid_template_columns": null,
            "grid_template_rows": null,
            "height": null,
            "justify_content": null,
            "justify_items": null,
            "left": null,
            "margin": null,
            "max_height": null,
            "max_width": null,
            "min_height": null,
            "min_width": null,
            "object_fit": null,
            "object_position": null,
            "order": null,
            "overflow": null,
            "overflow_x": null,
            "overflow_y": null,
            "padding": null,
            "right": null,
            "top": null,
            "visibility": null,
            "width": null
          }
        },
        "353debb5fc6a4c4fb782ba0282a787a5": {
          "model_module": "@jupyter-widgets/base",
          "model_module_version": "1.2.0",
          "model_name": "LayoutModel",
          "state": {
            "_model_module": "@jupyter-widgets/base",
            "_model_module_version": "1.2.0",
            "_model_name": "LayoutModel",
            "_view_count": null,
            "_view_module": "@jupyter-widgets/base",
            "_view_module_version": "1.2.0",
            "_view_name": "LayoutView",
            "align_content": null,
            "align_items": null,
            "align_self": null,
            "border": null,
            "bottom": null,
            "display": null,
            "flex": null,
            "flex_flow": null,
            "grid_area": null,
            "grid_auto_columns": null,
            "grid_auto_flow": null,
            "grid_auto_rows": null,
            "grid_column": null,
            "grid_gap": null,
            "grid_row": null,
            "grid_template_areas": null,
            "grid_template_columns": null,
            "grid_template_rows": null,
            "height": null,
            "justify_content": null,
            "justify_items": null,
            "left": null,
            "margin": null,
            "max_height": null,
            "max_width": null,
            "min_height": null,
            "min_width": null,
            "object_fit": null,
            "object_position": null,
            "order": null,
            "overflow": null,
            "overflow_x": null,
            "overflow_y": null,
            "padding": null,
            "right": null,
            "top": null,
            "visibility": null,
            "width": null
          }
        },
        "3fabce2372804ab88b680b11194c5ab6": {
          "model_module": "@jupyter-widgets/base",
          "model_module_version": "1.2.0",
          "model_name": "LayoutModel",
          "state": {
            "_model_module": "@jupyter-widgets/base",
            "_model_module_version": "1.2.0",
            "_model_name": "LayoutModel",
            "_view_count": null,
            "_view_module": "@jupyter-widgets/base",
            "_view_module_version": "1.2.0",
            "_view_name": "LayoutView",
            "align_content": null,
            "align_items": null,
            "align_self": null,
            "border": null,
            "bottom": null,
            "display": null,
            "flex": null,
            "flex_flow": null,
            "grid_area": null,
            "grid_auto_columns": null,
            "grid_auto_flow": null,
            "grid_auto_rows": null,
            "grid_column": null,
            "grid_gap": null,
            "grid_row": null,
            "grid_template_areas": null,
            "grid_template_columns": null,
            "grid_template_rows": null,
            "height": null,
            "justify_content": null,
            "justify_items": null,
            "left": null,
            "margin": null,
            "max_height": null,
            "max_width": null,
            "min_height": null,
            "min_width": null,
            "object_fit": null,
            "object_position": null,
            "order": null,
            "overflow": null,
            "overflow_x": null,
            "overflow_y": null,
            "padding": null,
            "right": null,
            "top": null,
            "visibility": null,
            "width": null
          }
        },
        "4b98c94d30594664ad17edddddfce4d9": {
          "model_module": "@jupyter-widgets/controls",
          "model_module_version": "1.5.0",
          "model_name": "ButtonStyleModel",
          "state": {
            "_model_module": "@jupyter-widgets/controls",
            "_model_module_version": "1.5.0",
            "_model_name": "ButtonStyleModel",
            "_view_count": null,
            "_view_module": "@jupyter-widgets/base",
            "_view_module_version": "1.2.0",
            "_view_name": "StyleView",
            "button_color": null,
            "font_weight": ""
          }
        },
        "5058d7bf54c944d0b49cafff6fdd45f8": {
          "model_module": "@jupyter-widgets/base",
          "model_module_version": "1.2.0",
          "model_name": "LayoutModel",
          "state": {
            "_model_module": "@jupyter-widgets/base",
            "_model_module_version": "1.2.0",
            "_model_name": "LayoutModel",
            "_view_count": null,
            "_view_module": "@jupyter-widgets/base",
            "_view_module_version": "1.2.0",
            "_view_name": "LayoutView",
            "align_content": null,
            "align_items": null,
            "align_self": null,
            "border": null,
            "bottom": null,
            "display": null,
            "flex": null,
            "flex_flow": null,
            "grid_area": null,
            "grid_auto_columns": null,
            "grid_auto_flow": null,
            "grid_auto_rows": null,
            "grid_column": null,
            "grid_gap": null,
            "grid_row": null,
            "grid_template_areas": null,
            "grid_template_columns": null,
            "grid_template_rows": null,
            "height": null,
            "justify_content": null,
            "justify_items": null,
            "left": null,
            "margin": null,
            "max_height": null,
            "max_width": null,
            "min_height": null,
            "min_width": null,
            "object_fit": null,
            "object_position": null,
            "order": null,
            "overflow": null,
            "overflow_x": null,
            "overflow_y": null,
            "padding": null,
            "right": null,
            "top": null,
            "visibility": null,
            "width": null
          }
        },
        "626b6dd4cab242c6854a1a8eaa8b8317": {
          "model_module": "@jupyter-widgets/controls",
          "model_module_version": "1.5.0",
          "model_name": "DescriptionStyleModel",
          "state": {
            "_model_module": "@jupyter-widgets/controls",
            "_model_module_version": "1.5.0",
            "_model_name": "DescriptionStyleModel",
            "_view_count": null,
            "_view_module": "@jupyter-widgets/base",
            "_view_module_version": "1.2.0",
            "_view_name": "StyleView",
            "description_width": ""
          }
        },
        "66b19fd05119405e8c86f41335a9fa30": {
          "model_module": "@jupyter-widgets/controls",
          "model_module_version": "1.5.0",
          "model_name": "ButtonStyleModel",
          "state": {
            "_model_module": "@jupyter-widgets/controls",
            "_model_module_version": "1.5.0",
            "_model_name": "ButtonStyleModel",
            "_view_count": null,
            "_view_module": "@jupyter-widgets/base",
            "_view_module_version": "1.2.0",
            "_view_name": "StyleView",
            "button_color": null,
            "font_weight": ""
          }
        },
        "71a22a19627b4fbc972e58118b532ca4": {
          "model_module": "@jupyter-widgets/base",
          "model_module_version": "1.2.0",
          "model_name": "LayoutModel",
          "state": {
            "_model_module": "@jupyter-widgets/base",
            "_model_module_version": "1.2.0",
            "_model_name": "LayoutModel",
            "_view_count": null,
            "_view_module": "@jupyter-widgets/base",
            "_view_module_version": "1.2.0",
            "_view_name": "LayoutView",
            "align_content": null,
            "align_items": null,
            "align_self": null,
            "border": null,
            "bottom": null,
            "display": null,
            "flex": null,
            "flex_flow": null,
            "grid_area": null,
            "grid_auto_columns": null,
            "grid_auto_flow": null,
            "grid_auto_rows": null,
            "grid_column": null,
            "grid_gap": null,
            "grid_row": null,
            "grid_template_areas": null,
            "grid_template_columns": null,
            "grid_template_rows": null,
            "height": null,
            "justify_content": null,
            "justify_items": null,
            "left": null,
            "margin": null,
            "max_height": null,
            "max_width": null,
            "min_height": null,
            "min_width": null,
            "object_fit": null,
            "object_position": null,
            "order": null,
            "overflow": null,
            "overflow_x": null,
            "overflow_y": null,
            "padding": null,
            "right": null,
            "top": null,
            "visibility": null,
            "width": null
          }
        },
        "78883dfc902e4c1890a2c5574cd246d9": {
          "model_module": "@jupyter-widgets/controls",
          "model_module_version": "1.5.0",
          "model_name": "TextModel",
          "state": {
            "_dom_classes": [],
            "_model_module": "@jupyter-widgets/controls",
            "_model_module_version": "1.5.0",
            "_model_name": "TextModel",
            "_view_count": null,
            "_view_module": "@jupyter-widgets/controls",
            "_view_module_version": "1.5.0",
            "_view_name": "TextView",
            "continuous_update": true,
            "description": "Your Answer:",
            "description_tooltip": null,
            "disabled": false,
            "layout": "IPY_MODEL_71a22a19627b4fbc972e58118b532ca4",
            "placeholder": "​",
            "style": "IPY_MODEL_626b6dd4cab242c6854a1a8eaa8b8317",
            "value": "nagpur"
          }
        },
        "873eea144a4144fb8bc282819d2bc1d7": {
          "model_module": "@jupyter-widgets/controls",
          "model_module_version": "1.5.0",
          "model_name": "ButtonStyleModel",
          "state": {
            "_model_module": "@jupyter-widgets/controls",
            "_model_module_version": "1.5.0",
            "_model_name": "ButtonStyleModel",
            "_view_count": null,
            "_view_module": "@jupyter-widgets/base",
            "_view_module_version": "1.2.0",
            "_view_name": "StyleView",
            "button_color": null,
            "font_weight": ""
          }
        },
        "a4b1c9cdc7c046b0a7e092337e17d65d": {
          "model_module": "@jupyter-widgets/controls",
          "model_module_version": "1.5.0",
          "model_name": "ButtonModel",
          "state": {
            "_dom_classes": [],
            "_model_module": "@jupyter-widgets/controls",
            "_model_module_version": "1.5.0",
            "_model_name": "ButtonModel",
            "_view_count": null,
            "_view_module": "@jupyter-widgets/controls",
            "_view_module_version": "1.5.0",
            "_view_name": "ButtonView",
            "button_style": "",
            "description": "Next",
            "disabled": false,
            "icon": "",
            "layout": "IPY_MODEL_e56c21b49ae343cba6f821cf451df7fd",
            "style": "IPY_MODEL_e7924bae6c7948c083b5b196fe33311b",
            "tooltip": ""
          }
        },
        "b4568de99e08432e9d7abec3b2196ea7": {
          "model_module": "@jupyter-widgets/base",
          "model_module_version": "1.2.0",
          "model_name": "LayoutModel",
          "state": {
            "_model_module": "@jupyter-widgets/base",
            "_model_module_version": "1.2.0",
            "_model_name": "LayoutModel",
            "_view_count": null,
            "_view_module": "@jupyter-widgets/base",
            "_view_module_version": "1.2.0",
            "_view_name": "LayoutView",
            "align_content": null,
            "align_items": null,
            "align_self": null,
            "border": null,
            "bottom": null,
            "display": null,
            "flex": null,
            "flex_flow": null,
            "grid_area": null,
            "grid_auto_columns": null,
            "grid_auto_flow": null,
            "grid_auto_rows": null,
            "grid_column": null,
            "grid_gap": null,
            "grid_row": null,
            "grid_template_areas": null,
            "grid_template_columns": null,
            "grid_template_rows": null,
            "height": null,
            "justify_content": null,
            "justify_items": null,
            "left": null,
            "margin": null,
            "max_height": null,
            "max_width": null,
            "min_height": null,
            "min_width": null,
            "object_fit": null,
            "object_position": null,
            "order": null,
            "overflow": null,
            "overflow_x": null,
            "overflow_y": null,
            "padding": null,
            "right": null,
            "top": null,
            "visibility": null,
            "width": null
          }
        },
        "b548dd5c398d403c9e1f2c4b95983e45": {
          "model_module": "@jupyter-widgets/controls",
          "model_module_version": "1.5.0",
          "model_name": "ButtonModel",
          "state": {
            "_dom_classes": [],
            "_model_module": "@jupyter-widgets/controls",
            "_model_module_version": "1.5.0",
            "_model_name": "ButtonModel",
            "_view_count": null,
            "_view_module": "@jupyter-widgets/controls",
            "_view_module_version": "1.5.0",
            "_view_name": "ButtonView",
            "button_style": "",
            "description": "Next",
            "disabled": false,
            "icon": "",
            "layout": "IPY_MODEL_353debb5fc6a4c4fb782ba0282a787a5",
            "style": "IPY_MODEL_4b98c94d30594664ad17edddddfce4d9",
            "tooltip": ""
          }
        },
        "becb516186c94ecd8568cd99bcbba84f": {
          "model_module": "@jupyter-widgets/controls",
          "model_module_version": "1.5.0",
          "model_name": "DescriptionStyleModel",
          "state": {
            "_model_module": "@jupyter-widgets/controls",
            "_model_module_version": "1.5.0",
            "_model_name": "DescriptionStyleModel",
            "_view_count": null,
            "_view_module": "@jupyter-widgets/base",
            "_view_module_version": "1.2.0",
            "_view_name": "StyleView",
            "description_width": ""
          }
        },
        "c4e724fa58b046b386ea32b3bbb29fbf": {
          "model_module": "@jupyter-widgets/controls",
          "model_module_version": "1.5.0",
          "model_name": "ButtonModel",
          "state": {
            "_dom_classes": [],
            "_model_module": "@jupyter-widgets/controls",
            "_model_module_version": "1.5.0",
            "_model_name": "ButtonModel",
            "_view_count": null,
            "_view_module": "@jupyter-widgets/controls",
            "_view_module_version": "1.5.0",
            "_view_name": "ButtonView",
            "button_style": "",
            "description": "Next",
            "disabled": false,
            "icon": "",
            "layout": "IPY_MODEL_2ad17bab0ee149f5816a657d6c6d30b9",
            "style": "IPY_MODEL_873eea144a4144fb8bc282819d2bc1d7",
            "tooltip": ""
          }
        },
        "d0a4aa118c1747c7b5352edac871525a": {
          "model_module": "@jupyter-widgets/controls",
          "model_module_version": "1.5.0",
          "model_name": "TextModel",
          "state": {
            "_dom_classes": [],
            "_model_module": "@jupyter-widgets/controls",
            "_model_module_version": "1.5.0",
            "_model_name": "TextModel",
            "_view_count": null,
            "_view_module": "@jupyter-widgets/controls",
            "_view_module_version": "1.5.0",
            "_view_name": "TextView",
            "continuous_update": true,
            "description": "Your Answer:",
            "description_tooltip": null,
            "disabled": false,
            "layout": "IPY_MODEL_fc33f70d8f704eb29f73fd6517b36b14",
            "placeholder": "​",
            "style": "IPY_MODEL_2014e0bfba0347d79be09d652c3bb19d",
            "value": "odf"
          }
        },
        "ddb9175d87fc41ed9dc7255107545d24": {
          "model_module": "@jupyter-widgets/controls",
          "model_module_version": "1.5.0",
          "model_name": "TextModel",
          "state": {
            "_dom_classes": [],
            "_model_module": "@jupyter-widgets/controls",
            "_model_module_version": "1.5.0",
            "_model_name": "TextModel",
            "_view_count": null,
            "_view_module": "@jupyter-widgets/controls",
            "_view_module_version": "1.5.0",
            "_view_name": "TextView",
            "continuous_update": true,
            "description": "Your Answer:",
            "description_tooltip": null,
            "disabled": false,
            "layout": "IPY_MODEL_b4568de99e08432e9d7abec3b2196ea7",
            "placeholder": "​",
            "style": "IPY_MODEL_150a9f2d22974d77beb2dc269919422b",
            "value": "dont know"
          }
        },
        "e56c21b49ae343cba6f821cf451df7fd": {
          "model_module": "@jupyter-widgets/base",
          "model_module_version": "1.2.0",
          "model_name": "LayoutModel",
          "state": {
            "_model_module": "@jupyter-widgets/base",
            "_model_module_version": "1.2.0",
            "_model_name": "LayoutModel",
            "_view_count": null,
            "_view_module": "@jupyter-widgets/base",
            "_view_module_version": "1.2.0",
            "_view_name": "LayoutView",
            "align_content": null,
            "align_items": null,
            "align_self": null,
            "border": null,
            "bottom": null,
            "display": null,
            "flex": null,
            "flex_flow": null,
            "grid_area": null,
            "grid_auto_columns": null,
            "grid_auto_flow": null,
            "grid_auto_rows": null,
            "grid_column": null,
            "grid_gap": null,
            "grid_row": null,
            "grid_template_areas": null,
            "grid_template_columns": null,
            "grid_template_rows": null,
            "height": null,
            "justify_content": null,
            "justify_items": null,
            "left": null,
            "margin": null,
            "max_height": null,
            "max_width": null,
            "min_height": null,
            "min_width": null,
            "object_fit": null,
            "object_position": null,
            "order": null,
            "overflow": null,
            "overflow_x": null,
            "overflow_y": null,
            "padding": null,
            "right": null,
            "top": null,
            "visibility": null,
            "width": null
          }
        },
        "e7924bae6c7948c083b5b196fe33311b": {
          "model_module": "@jupyter-widgets/controls",
          "model_module_version": "1.5.0",
          "model_name": "ButtonStyleModel",
          "state": {
            "_model_module": "@jupyter-widgets/controls",
            "_model_module_version": "1.5.0",
            "_model_name": "ButtonStyleModel",
            "_view_count": null,
            "_view_module": "@jupyter-widgets/base",
            "_view_module_version": "1.2.0",
            "_view_name": "StyleView",
            "button_color": null,
            "font_weight": ""
          }
        },
        "f057f06f7e3a40a3b94929f2dde8ddad": {
          "model_module": "@jupyter-widgets/base",
          "model_module_version": "1.2.0",
          "model_name": "LayoutModel",
          "state": {
            "_model_module": "@jupyter-widgets/base",
            "_model_module_version": "1.2.0",
            "_model_name": "LayoutModel",
            "_view_count": null,
            "_view_module": "@jupyter-widgets/base",
            "_view_module_version": "1.2.0",
            "_view_name": "LayoutView",
            "align_content": null,
            "align_items": null,
            "align_self": null,
            "border": null,
            "bottom": null,
            "display": null,
            "flex": null,
            "flex_flow": null,
            "grid_area": null,
            "grid_auto_columns": null,
            "grid_auto_flow": null,
            "grid_auto_rows": null,
            "grid_column": null,
            "grid_gap": null,
            "grid_row": null,
            "grid_template_areas": null,
            "grid_template_columns": null,
            "grid_template_rows": null,
            "height": null,
            "justify_content": null,
            "justify_items": null,
            "left": null,
            "margin": null,
            "max_height": null,
            "max_width": null,
            "min_height": null,
            "min_width": null,
            "object_fit": null,
            "object_position": null,
            "order": null,
            "overflow": null,
            "overflow_x": null,
            "overflow_y": null,
            "padding": null,
            "right": null,
            "top": null,
            "visibility": null,
            "width": null
          }
        },
        "fc33f70d8f704eb29f73fd6517b36b14": {
          "model_module": "@jupyter-widgets/base",
          "model_module_version": "1.2.0",
          "model_name": "LayoutModel",
          "state": {
            "_model_module": "@jupyter-widgets/base",
            "_model_module_version": "1.2.0",
            "_model_name": "LayoutModel",
            "_view_count": null,
            "_view_module": "@jupyter-widgets/base",
            "_view_module_version": "1.2.0",
            "_view_name": "LayoutView",
            "align_content": null,
            "align_items": null,
            "align_self": null,
            "border": null,
            "bottom": null,
            "display": null,
            "flex": null,
            "flex_flow": null,
            "grid_area": null,
            "grid_auto_columns": null,
            "grid_auto_flow": null,
            "grid_auto_rows": null,
            "grid_column": null,
            "grid_gap": null,
            "grid_row": null,
            "grid_template_areas": null,
            "grid_template_columns": null,
            "grid_template_rows": null,
            "height": null,
            "justify_content": null,
            "justify_items": null,
            "left": null,
            "margin": null,
            "max_height": null,
            "max_width": null,
            "min_height": null,
            "min_width": null,
            "object_fit": null,
            "object_position": null,
            "order": null,
            "overflow": null,
            "overflow_x": null,
            "overflow_y": null,
            "padding": null,
            "right": null,
            "top": null,
            "visibility": null,
            "width": null
          }
        }
      }
    }
  },
  "nbformat": 4,
  "nbformat_minor": 0
}